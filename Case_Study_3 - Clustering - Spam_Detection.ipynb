{
  "nbformat": 4,
  "nbformat_minor": 0,
  "metadata": {
    "orig_nbformat": 2,
    "colab": {
      "name": "Case_Study_3_(Team_Dean).ipynb",
      "provenance": [],
      "collapsed_sections": [
        "ZHsWNoR4Kqs4"
      ],
      "toc_visible": true
    },
    "language_info": {
      "name": "python"
    },
    "kernelspec": {
      "name": "python3",
      "display_name": "Python 3"
    }
  },
  "cells": [
    {
      "cell_type": "markdown",
      "metadata": {
        "id": "Gcql9usW58HZ"
      },
      "source": [
        "# **Case Study 3**\n",
        "## Spam Classification\n",
        "  \n",
        "  \n",
        "---\n",
        "\n",
        "\n",
        "#Team DEAN:\n",
        "#**D**avid Wei | **E**dward Roske | **A**dam Canton | **N**eil Benson\n",
        "\n",
        "#**Business Understanding**\n",
        "*   **Problem**: Spam is making it difficult for people to identify real/valuable emails compared to unsolicited and potentially harmful emails.\n",
        "*   **Objective**: Using 9,373 emails pre-labeled as real (that is, \"not-spam\") or spam, the team built a model to classify future, incoming emails as real or spam.\n",
        "*   **Why is this important?**: The amount of spam sent by sellers and scammers is increasing every day. Without a good spam filter, it would be impossible to find all the real emails in the midst of the unwanted emails. Further, spam messages trying to defraud the reader are also on the rise, and a quality classification model can help minimize potential criminal activity.\n",
        "  \n",
        "# **Modeling Preparations**\n",
        "*   **Proposed methods**: Once [Data Engineering](#DataEngineering) was complete, the team used clustering to find a further way of grouping emails together (which may or may not improve model performance). The team then used Naive Bayes to create a classifier to predict if emails were spam or not-spam. For both clustering and Naive Bayes, the team used a Grid Search for hyper tuning of the parameters.\n",
        "*   **Sampling Technique**: Since the data was [unbalanced](#Crossfold) with 74.3% of the emails labeled as \"not=spam\", it was important to use stratified sampling. The team chose to use a stratified cross-fold validation with 5 folds to minimize overfitting for all but the final fully tuned model. For the final model, the data was fit to an 80/20 train/test stratified shuffle split.\n",
        "*   **Appropriateness**: Clustering is an unsupervised method that is appropriate for finding potential groupings in data. Naive Bayes is a common supervised learning classification technique for binary classes. Since our email is either \"spam\" or \"not-spam\", Naive Bayes was an appropriate method that uses probability scores to determine the likelihood of something falling into one of two classes.  \n",
        "*   **Usefulness of this approach**: Our goal was to minimize spam by finding messages likely to be spam vs not-spam. The team used F1 scores when hypertuning the parameters to make the most optimal spam filter possible, but when in doubt, the team erred on the side of a suspect email being declared \"not-spam\". This was because the cost of valid emails being marked as invalid was greater than the benefit of limiting as many messages as possible.  \n",
        "*   **Evaluation Metrics**: Since our goal was a balanced classification between precision (a way to assess false positives) and recall (a way to assess false negatives), the team chose to use F1 score to weed out underperforming models. F1 scores are calculated based on 2*((precision*recall)/(precision+recall)) and will range from 0 (completely incorrect model) to 1 (completely perfect model). To compare models across different discrimination thresholds, though, F1 isn't as helpful. As such the the team also included an [ROC curve](#ROCCurve) (Receiver Operating Characteristics) for the final model run against the test data.  \n",
        "\n",
        "  \n",
        "<a name=\"DataEngineering\"></a>\n",
        "# **Data Engineering**\n",
        "*   **Data Issues**: The data was initially provided in an unstructured format consisting of 9,373 emails divided into 5 folders designating if the emails were \"ham\" (AKA \"not-spam\") or \"spam.\" The biggest problem to overcome was converting this data into a structured, numeric series of attributes that could be used for clustering and Naive Bayes classification. Another notable problem with the data was that attributes needed to be extracted from the unstructured data (such as \"subject line\") but the attributes varied from email text file to email text file. One issue was added in during feature creation which was that once the data was made into a numeric format, it was unscaled with different means and standard deviations.  \n",
        "*   **Transformation Method**: To begin with, the team used Python to convert the data from unstructured to structured. The team looped through each file gathering information about each email and adding it to data frames. \n",
        "*   **Feature Engineering**: As each email was being parsed, the team created various features (such as count of capitalized words or punctuation in the subject) that might help determine if an email was spam or not.  As mentioned before, the data used different units, and so that the features were directly comparable, the team scaled the data. The features created were modified so that they were correctly represented as continuous or categorical. The following features were added (not including the NLP features added later:\n",
        "  *   filename\n",
        "  *   email_body\n",
        "  *   contains_reply\n",
        "  *   is_multipart\n",
        "  *   sub_line_all_caps\n",
        "  *   sub_line_punctuation\n",
        "  *   sub_line_punctuation_cnt\n",
        "  *   sub_line_repeat_punct\n",
        "  *   sub_line_repeat_punct_cnt\n",
        "  *   sub_line_cap_words_cnt\n",
        "  *   sub_line_cap_length_total\n",
        "  *   sub_line_cap_length_average\n",
        "  *   sub_line_cap_length_longest\n",
        "  *   digits_in_sub_line\n",
        "  *   body_lines\n",
        "  *   blank_lines\n",
        "  *   is_spam\n",
        "*   **Natural Language Processing**: Initial modeling based on more easily obtained features didn't return F1 scores at an acceptable enough level, so the team analyzed the body portion of the text using NLP (Natural Language Processing) to create information such as lexical diversity. Using NLP was almost a project in and of itself, and the evaluators of this study could additionally reward the research team for going above and beyond.  \n",
        "*   **Missing Values**: All the 9,373 emails were labeled, so in the big picture sense, no mandatory data was missing. That said, many attributes that were created had a large number of zero (for continuous features) or false (for binary categorical classes) values. These were correct, so they were left in for model creation. For evidence that no data was missing, see the [Missing Data](#Missing) section.    \n",
        "*   **EDA**: For the features created, the continuous attributes all range from 0 (meaning that the count for that feature or the ratio had a zero for the denominator) to positive numbers. There are outliers, but these values are valid, so the features needed to be normalized. There are roughly 3 times as many non-spam emails as spam emails, so the team needed to use stratified splitting/sampling. Most of the data was not heavily correlated. Since the goal of the model is not feature importance, all features were left in the model to improve the effectiveness of the model. For additional details, tables, and charts, see [EDA](#EDA).     \n",
        "*   **Assumptions and Other Relevant Notes**: The research team was making multiple assumptions in this case. First, the team assumed that the importance of receiving emails that might be spam was more important than limiting 100% of suspect emails. The team was also assuming that the emails provided were correctly pre-sorted into spam vs. non-spam. It is important to note that spammers are getting more sophisticated every day and this model will need to be constantly updated with newly classified emails.\n",
        "\n",
        "  \n",
        "# **Model Building & Evaluation**\n",
        "*   **Clustering**: For the unsupervised learning portion of the model, the research team used a clustering algorithm called DBScan. DBScan uses density to group values that are near together into similar clusters. Using a V Measure Score, the team used a Grid Search to hypertune the clustering iterating through 25 models. The best values for the distance between points threshold (eps) was 0.1 and for the minimum sample count was 3. While the class target was used to tune the hyperparameters (so we had some way of telling if our clusters were making logical sense), once the parameters were tuned, the clustering algorithm created its clusters (labeled in the model as 'cluster_id') using only the feature data. In other words, the target was omitted from the data when actually creating the clusters. For additional details, see [Clustering](#Clustering).     \n",
        "*   **Naive Bayes**: As mentioned above, stratified 5-fold cross-validation was used for the DBScan Clustering and all hyperparameter tuning, but an 80/20 train/test stratified shuffle split was used for the final Gaussian Naives Bayes model. For the hypertuning, the team evaluated 7 different models comparing each based on a F1 score and the best model used a var_smoothing value of 0.0001. For additional details, see [Naive Bayes](#NaiveBayes).     \n",
        "*   **Analysis of Model Performance**: We hypertuned our parameters for both the clustering algorithm (using V Measure) and the Naives Bayes models (using F1 score). Our original best Naive Bayes model did not use the NLP attributes and earned an F1 score of 0.250. The team didn't feel this was decent enough, so after adding various NLP attributes (and hypertuning the model with NLP attributes), the F1 score rose to 0.423. The time to generate these additional NLP features was over 1 hour, 44 minutes, but the team felt that the gain in performance was worth the time trade-off. For additional details, see [F1 Score](#F1Scores). \n",
        "\n",
        "  \n",
        "# **Case Conclusions**\n",
        "*   **Conclusion**: It is possible to make a decent classifier that runs relatively quickly using a Naives Bayes model. The longest part of the classification is adding NLP attributes such as word count, vocabulary size, and lexical diversity (are the same words used frequently or is the ratio of \"total distinct words\" to \"word count\" fairly high). But in less than 2 hours total run-time, a model can be trained and fitted generating a decent classifier (F1 Score = 0.423).  \n",
        "*   **How to View the Results**: An F1 Score of 0.423 is... not great. While the model is fairly good at determining when that a non-spam email is indeed not-spam, as the [confusion matrix](#ConfusionMatrix) shows, the current model is classifying too many non-spam emails as spam.   \n",
        "*   **Proposed Going Forward**: The research team is proposing that this model not be used as is but rather be treated as a proof of concept. Spam can indeed be predicted based on various attributes, but much greater development is needed... or one could use a professional spam filter.\n",
        "*   **Go Forward Considerations**: While the [ROC Curve](#ROCCurve) shows that the model is doing better than random chance, far more model development needs to be done before this model could be used in practice. Further, the model must be regularly retrained as spammers get more intelligent in their solicitous ways.  \n",
        "*   **Other Possible Approaches**: Naives Bayes is often used as a simple starting point, but other possible models would likely perform better such as an Random Forest Classifier or an XGBoost classifier, but the real benefit would be added by adding more (and more relevant) features. The team advises that the next pass of this model should try using TF-IDF (Term Frequency - Inverse Document Frequency) metrics.   \n",
        "\n",
        "  \n",
        "# **Report Format**\n",
        "*   **Format**: The research team felt that an easy-to-read PDF report was most helpful for quick consumption. That said, there is significant code, output, and diagrams that contain additional details that may be of interest to different readers. The team has included all of this information below, and if this topic is of interest, please continue reading beyond this point beginning with the [Data Prep and EDA](#DataPrepAndEDA)."
      ]
    },
    {
      "cell_type": "markdown",
      "metadata": {
        "id": "ZHsWNoR4Kqs4"
      },
      "source": [
        "\n",
        "\n",
        "---\n",
        "\n",
        "\n",
        "# Packages\n"
      ]
    },
    {
      "cell_type": "code",
      "metadata": {
        "id": "4cR4W80cKz9L"
      },
      "source": [
        "# %%javascript\n",
        "# IPython.OutputArea.prototype._should_scroll = function(lines) {\n",
        "#     return false;\n",
        "# }"
      ],
      "execution_count": null,
      "outputs": []
    },
    {
      "cell_type": "code",
      "metadata": {
        "id": "WcNd6SLrKqs7"
      },
      "source": [
        "# sys\n",
        "import os\n",
        "from os.path import isfile\n",
        "from inspect import CO_VARARGS\n",
        "import warnings\n",
        "\n",
        "warnings.filterwarnings(\"ignore\")  # ignoring warnings\n",
        "\n",
        "# SKLearn\n",
        "from sklearn.model_selection import StratifiedKFold, GridSearchCV, StratifiedShuffleSplit\n",
        "from sklearn.preprocessing import StandardScaler\n",
        "from sklearn.cluster import DBSCAN\n",
        "from sklearn.metrics import confusion_matrix\n",
        "from sklearn.metrics import ConfusionMatrixDisplay as cmd\n",
        "from sklearn.metrics import f1_score\n",
        "from sklearn.naive_bayes import GaussianNB\n",
        "from sklearn.feature_selection import RFECV\n",
        "from sklearn import metrics\n",
        "\n",
        "#NLTK & NLP\n",
        "import nltk\n",
        "from urllib import request\n",
        "from nltk import word_tokenize\n",
        "from nltk.corpus import stopwords\n",
        "from nltk.tokenize import word_tokenize\n",
        "from nltk.tokenize import ToktokTokenizer\n",
        "from string import punctuation\n",
        "from nltk.stem import PorterStemmer\n",
        "\n",
        "\n",
        "# Other Packages\n",
        "import numpy as np\n",
        "import matplotlib.pyplot as plt\n",
        "import pandas as pd\n",
        "#from pandas_profiling import ProfileReport\n",
        "from os import listdir, walk\n",
        "from os.path import isfile, join\n",
        "import re\n",
        "import string\n",
        "from itertools import groupby\n",
        "import seaborn as sns\n",
        "import email #library for managing email messages"
      ],
      "execution_count": null,
      "outputs": []
    },
    {
      "cell_type": "code",
      "metadata": {
        "id": "yW4_WRlAKqs-",
        "colab": {
          "base_uri": "https://localhost:8080/"
        },
        "outputId": "a6d39163-0cfb-4a70-8a1c-2fcd060e8b77"
      },
      "source": [
        "# intel patch for running sklearn - this helps performance a lot\n",
        "from sklearnex import patch_sklearn\n",
        "\n",
        "patch_sklearn()\n",
        "\n"
      ],
      "execution_count": null,
      "outputs": [
        {
          "output_type": "stream",
          "text": [
            "Intel(R) Extension for Scikit-learn* enabled (https://github.com/intel/scikit-learn-intelex)\n"
          ],
          "name": "stderr"
        }
      ]
    },
    {
      "cell_type": "markdown",
      "metadata": {
        "id": "vOYLJ0htK5V_"
      },
      "source": [
        "<a name=\"DataPrepAndEDA\"></a>\n",
        "# Data Prep and EDA"
      ]
    },
    {
      "cell_type": "markdown",
      "metadata": {
        "id": "PcQeCCdzKqtA"
      },
      "source": [
        "### Helper functions"
      ]
    },
    {
      "cell_type": "code",
      "metadata": {
        "id": "EncNqHDoKqtB"
      },
      "source": [
        "# to count letters and punctuation in a string\n",
        "count = lambda l1, l2: sum([1 for x in l1 if x in l2])\n",
        "\n",
        "\n",
        "def replace_multiple(mainString, toBeReplaces, newString):\n",
        "    \"\"\"\n",
        "    Replace a set of multiple sub strings with a new string in main string.\n",
        "    \"\"\"\n",
        "    # Iterate over the strings to be replaced\n",
        "    for elem in toBeReplaces:\n",
        "        # Check if string is in the main string\n",
        "        if elem in mainString:\n",
        "            # Replace the string\n",
        "            mainString = mainString.replace(elem, newString)\n",
        "\n",
        "    return mainString\n",
        "\n",
        "\n",
        "def grid_search(X, y, model, grid, score, cv):\n",
        "    # define search\n",
        "    search_grid_search_measure = GridSearchCV(\n",
        "        model, grid, scoring=score, cv=cv, n_jobs=nj, verbose=1\n",
        "    )\n",
        "\n",
        "    labels_true = y.to_numpy()\n",
        "    labels_true = np.squeeze(np.asarray(np.transpose(labels_true)))\n",
        "\n",
        "    # perform the search\n",
        "    results_grid_search_measure = search_grid_search_measure.fit(X, labels_true)\n",
        "\n",
        "    return results_grid_search_measure\n",
        "\n"
      ],
      "execution_count": null,
      "outputs": []
    },
    {
      "cell_type": "markdown",
      "metadata": {
        "id": "a1InZ3RiKqtD"
      },
      "source": [
        "### Setting global variables"
      ]
    },
    {
      "cell_type": "code",
      "metadata": {
        "id": "Xf_FuE94KqtD"
      },
      "source": [
        "##### TEST with 3 varying sizes of data: small, medium, all \n",
        "# directory = \"g:/My Drive/Masters/Summer 2021 (NLP, QTW, Cap A)/DS 7333 - Quantifying the World/Case Studies/Case Study 3/Test Data_small\"\n",
        "# directory = \"g:/My Drive/Masters/Summer 2021 (NLP, QTW, Cap A)/DS 7333 - Quantifying the World/Case Studies/Case Study 3/Test Data_medium\"\n",
        "directory = \"g:/My Drive/Masters/Summer 2021 (NLP, QTW, Cap A)/DS 7333 - Quantifying the World/Case Studies/Case Study 3/Data\"\n",
        "\n",
        "#directory = \"/home/bensonnd/msds/ds7333/case_study_3/Data\"\n",
        "\n",
        "sub_dirs = [x[0] for x in os.walk(directory) if x[0] != directory]\n",
        "\n",
        "results_df = pd.DataFrame()\n",
        "\n",
        "# setting n_jobs\n",
        "nj = -1"
      ],
      "execution_count": null,
      "outputs": []
    },
    {
      "cell_type": "markdown",
      "metadata": {
        "id": "oR_bcxxdKqtF"
      },
      "source": [
        "### Parsing email files"
      ]
    },
    {
      "cell_type": "code",
      "metadata": {
        "id": "VWydUML8KqtG",
        "colab": {
          "base_uri": "https://localhost:8080/"
        },
        "outputId": "0eee08e8-79ac-48b8-9730-849231507c7c"
      },
      "source": [
        "%%time\n",
        "for d in sub_dirs:\n",
        "    files = [f for f in os.listdir(d) if os.path.isfile(os.path.join(d, f))]\n",
        "\n",
        "    try:\n",
        "        files.remove(\".DS_Store\")\n",
        "        files.remove(\"Zone.Identifier\")\n",
        "    except:\n",
        "        pass\n",
        "\n",
        "    for file in files:\n",
        "        ############## ADDING (06_02, David): \"Email_body\" content ##############\n",
        "        # storing empty email body messages\n",
        "        email_body_temp = []\n",
        "       ############## \"email_body\" content END ##############\n",
        "\n",
        "        with open(f\"{d}/{file}\", encoding=\"latin1\") as f:\n",
        "            lines = f.readlines()\n",
        "\n",
        "        in_reply_cnt = 0  # is there a reply thread\n",
        "        sub_line_all_caps = 0  # is subject line all caps\n",
        "        sub_line_punctuation = 0  # does subject line have punctuation\n",
        "        sub_line_punctuation_cnt = 0  # count punctuation chars in subject line\n",
        "        sub_line_repeat_punct = 0  # does subject line have repeat punctuation\n",
        "        sub_line_repeat_punct_cnt = 0  # count repeat punctuation chars in subject line\n",
        "        is_multipart = 0  # is multi-part\n",
        "        cap_words_sub_line_cnt = 0  # count of cap words in subject line\n",
        "        capital_run_length_total_s_line = 0  # total length of cap words in subject line\n",
        "        capital_run_length_average_s_line = (\n",
        "            0  # average length of cap word in subject line\n",
        "        )\n",
        "        capital_run_length_longest_s_line = (\n",
        "            0  # longest length of cap word in subject line\n",
        "        )\n",
        "        digits_in_sub_line = 0  # are there digits in the subject line\n",
        "        n_lines = len(lines)  # number of lines in the whole file\n",
        "        blank_lines = 0  # number of blank lines in the whole file\n",
        "\n",
        "        for line in lines:\n",
        "            if \"Subject: \" in line:\n",
        "                s_line = line.strip().replace(\"Subject: \", \"\")\n",
        "\n",
        "                if re.search(r\"subject:.* re:\", line.lower()):\n",
        "                    in_reply_cnt = 1\n",
        "                    s_line = replace_multiple(s_line, [\"Re: \", \"RE: \",], \"\")\n",
        "\n",
        "                # remove special characters and white space\n",
        "                s_line_string = \"\".join(e for e in s_line if e.isalnum())\n",
        "\n",
        "                # subject line contains digits\n",
        "                if re.search(r\"\\d\", s_line_string):\n",
        "                    digits_in_sub_line = 1\n",
        "\n",
        "                    # remove digits to check if all upper\n",
        "                    s_line_string = re.sub(r\"\\d\", \"\", s_line_string)\n",
        "\n",
        "                num_upper = sum(1 for c in s_line_string if c.isupper())\n",
        "                ttl_chars = len(s_line_string)\n",
        "\n",
        "                # check if all upper\n",
        "                if num_upper == ttl_chars:\n",
        "                    sub_line_all_caps = 1\n",
        "\n",
        "                # find the number of cap words in the subject line\n",
        "                cap_words_sub_line = re.findall(r\"(?!RE:)\\b[A-Z]{1,}\\b\", s_line)\n",
        "                cap_words_sub_line_cnt = len(cap_words_sub_line)\n",
        "\n",
        "                # capital word lengths in subject line\n",
        "                if cap_words_sub_line_cnt:\n",
        "                    cap_word_lengths = [len(word) for word in cap_words_sub_line]\n",
        "\n",
        "                    # the total length capital words in subject line\n",
        "                    capital_run_length_total_s_line = sum(cap_word_lengths)\n",
        "\n",
        "                    # the average length capital word in subject line\n",
        "                    capital_run_length_average_s_line = (\n",
        "                        capital_run_length_total_s_line / len(cap_words_sub_line)\n",
        "                        if len(cap_words_sub_line)\n",
        "                        else 0\n",
        "                    )\n",
        "\n",
        "                    # the longest all capital word in the subject line\n",
        "                    capital_run_length_longest_s_line = (\n",
        "                        max(cap_word_lengths) if cap_word_lengths else 0\n",
        "                    )\n",
        "\n",
        "                # punctation count and repeats in subject line\n",
        "                if any(char in string.punctuation for char in line if char != \":\"):\n",
        "                    # does subject line contain any punctuation\n",
        "                    sub_line_punctuation = 1\n",
        "\n",
        "                    # total count of punctuation in subject line\n",
        "                    sub_line_punctuation_cnt = count(s_line, set(string.punctuation))\n",
        "\n",
        "                    # are punctuation chars repeated consecutively in subject line\n",
        "                    consecutive_repeats = groupby(s_line)\n",
        "                    punct_consecutive = [\n",
        "                        (label, sum(1 for _ in group))\n",
        "                        for label, group in consecutive_repeats\n",
        "                        if label in string.punctuation\n",
        "                    ]\n",
        "\n",
        "                    # identify consecutive repeating punctuation chars in subject line\n",
        "                    for punct in punct_consecutive:\n",
        "                        if punct[1] > 1:\n",
        "                            sub_line_repeat_punct = 1\n",
        "\n",
        "                            # total consecutively repeated punctuation chars in subject line\n",
        "                            sub_line_repeat_punct_cnt += punct[1]\n",
        "\n",
        "            if \"content-type: multipart\" in line.lower():\n",
        "                is_multipart = 1\n",
        "\n",
        "            if line == \"\\n\":\n",
        "                blank_lines += 1\n",
        "\n",
        "            ############## ADDING (06_02, David): \"Email_body\" content ##############\n",
        "            # append all lines into email_body\n",
        "            email_body_temp.append(line)\n",
        "            # once appended convert from list to string form\n",
        "            email_body = ''.join(email_body_temp)\n",
        "            # using email library to extract the email body\n",
        "            b = email.message_from_string(email_body)\n",
        "            body = \"\"\n",
        "            # cleans email body and filters through non-\"email body\" type content\n",
        "            if b.is_multipart():\n",
        "                for part in b.walk():\n",
        "                    ctype = part.get_content_type()\n",
        "                    cdispo = str(part.get('Content-Disposition'))\n",
        "\n",
        "                    # skip any text/plain (txt) attachments\n",
        "                    if ctype == 'text/plain' and 'attachment' not in cdispo:\n",
        "                        body = part.get_payload(decode=True)  # decode\n",
        "                        break\n",
        "            # not multipart - i.e. plain text, no attachments, keeping fingers crossed\n",
        "            else:\n",
        "                body = b.get_payload(decode=True)\n",
        "          ############## \"email_body\" content END ##############\n",
        "\n",
        "        temp_df = pd.DataFrame(\n",
        "            {\n",
        "                \"filename\": file,\n",
        "                ############## ADDING (06_02, David): \"Email_body\" content ##############\n",
        "                \"email_body\": body,\n",
        "                ############## \"email_body\" content END ##############\n",
        "                \"contains_reply\": in_reply_cnt,\n",
        "                \"is_multipart\": is_multipart,\n",
        "                \"sub_line_all_caps\": sub_line_all_caps,\n",
        "                \"sub_line_punctuation\": sub_line_punctuation,\n",
        "                \"sub_line_punctuation_cnt\": sub_line_punctuation_cnt,\n",
        "                \"sub_line_repeat_punct\": sub_line_repeat_punct,\n",
        "                \"sub_line_repeat_punct_cnt\": sub_line_repeat_punct_cnt,\n",
        "                \"sub_line_cap_words_cnt\": cap_words_sub_line_cnt,\n",
        "                \"sub_line_cap_length_total\": capital_run_length_total_s_line,\n",
        "                \"sub_line_cap_length_average\": capital_run_length_average_s_line,\n",
        "                \"sub_line_cap_length_longest\": capital_run_length_longest_s_line,\n",
        "                \"digits_in_sub_line\": digits_in_sub_line,\n",
        "                \"body_lines\": n_lines - blank_lines,\n",
        "                \"blank_lines\": blank_lines,\n",
        "                \"is_spam\": [1 if \"spam\" in d else 0],\n",
        "            },\n",
        "            index=[0],\n",
        "        )\n",
        "\n",
        "        results_df = results_df.append(temp_df, ignore_index=True)\n",
        "        \n",
        "\n",
        "# source: adapted from QTW lecture 5"
      ],
      "execution_count": null,
      "outputs": [
        {
          "output_type": "stream",
          "text": [
            "Wall time: 6min\n"
          ],
          "name": "stdout"
        }
      ]
    },
    {
      "cell_type": "code",
      "metadata": {
        "id": "SuPUW92YKqtJ",
        "colab": {
          "base_uri": "https://localhost:8080/",
          "height": 477
        },
        "outputId": "a1182f4e-49e1-4bde-9534-541bb47f54c8"
      },
      "source": [
        "results_df.head()"
      ],
      "execution_count": null,
      "outputs": [
        {
          "output_type": "execute_result",
          "data": {
            "text/plain": [
              "                                 filename  \\\n",
              "0  00001.7c53336b37003a9286aba55d2945844c   \n",
              "1  00002.9c4069e25e1ef370c078db7ee85ff9ac   \n",
              "2  00003.860e3c3cee1b42ead714c5c874fe25f7   \n",
              "3  00004.864220c5b6930b209cc287c361c99af1   \n",
              "4  00005.bf27cdeaf0b8c4647ecd61b1d09da613   \n",
              "\n",
              "                                          email_body  contains_reply  \\\n",
              "0  b'    Date:        Wed, 21 Aug 2002 10:54:46 -...               1   \n",
              "1  b\"Martin A posted:\\nTassos Papadopoulos, the G...               1   \n",
              "2  b\"Man Threatens Explosion In Moscow \\n\\nThursd...               0   \n",
              "3  b\"Klez: The Virus That Won't Die\\n \\nAlready t...               0   \n",
              "4  b\">  in adding cream to spaghetti carbonara, w...               1   \n",
              "\n",
              "   is_multipart  sub_line_all_caps  sub_line_punctuation  \\\n",
              "0             0                  0                     0   \n",
              "1             0                  0                     1   \n",
              "2             0                  0                     1   \n",
              "3             0                  0                     1   \n",
              "4             0                  0                     1   \n",
              "\n",
              "   sub_line_punctuation_cnt  sub_line_repeat_punct  sub_line_repeat_punct_cnt  \\\n",
              "0                         0                      0                          0   \n",
              "1                         2                      0                          0   \n",
              "2                         2                      0                          0   \n",
              "3                         4                      0                          0   \n",
              "4                         2                      0                          0   \n",
              "\n",
              "   sub_line_cap_words_cnt  sub_line_cap_length_total  \\\n",
              "0                       0                          0   \n",
              "1                       0                          0   \n",
              "2                       0                          0   \n",
              "3                       1                          3   \n",
              "4                       0                          0   \n",
              "\n",
              "   sub_line_cap_length_average  sub_line_cap_length_longest  \\\n",
              "0                          0.0                            0   \n",
              "1                          0.0                            0   \n",
              "2                          0.0                            0   \n",
              "3                          3.0                            3   \n",
              "4                          0.0                            0   \n",
              "\n",
              "   digits_in_sub_line  body_lines  blank_lines  is_spam  \n",
              "0                   0          93           20        0  \n",
              "1                   0          65            8        0  \n",
              "2                   0          73            9        0  \n",
              "3                   0          69            9        0  \n",
              "4                   0          66           11        0  "
            ],
            "text/html": [
              "<div>\n",
              "<style scoped>\n",
              "    .dataframe tbody tr th:only-of-type {\n",
              "        vertical-align: middle;\n",
              "    }\n",
              "\n",
              "    .dataframe tbody tr th {\n",
              "        vertical-align: top;\n",
              "    }\n",
              "\n",
              "    .dataframe thead th {\n",
              "        text-align: right;\n",
              "    }\n",
              "</style>\n",
              "<table border=\"1\" class=\"dataframe\">\n",
              "  <thead>\n",
              "    <tr style=\"text-align: right;\">\n",
              "      <th></th>\n",
              "      <th>filename</th>\n",
              "      <th>email_body</th>\n",
              "      <th>contains_reply</th>\n",
              "      <th>is_multipart</th>\n",
              "      <th>sub_line_all_caps</th>\n",
              "      <th>sub_line_punctuation</th>\n",
              "      <th>sub_line_punctuation_cnt</th>\n",
              "      <th>sub_line_repeat_punct</th>\n",
              "      <th>sub_line_repeat_punct_cnt</th>\n",
              "      <th>sub_line_cap_words_cnt</th>\n",
              "      <th>sub_line_cap_length_total</th>\n",
              "      <th>sub_line_cap_length_average</th>\n",
              "      <th>sub_line_cap_length_longest</th>\n",
              "      <th>digits_in_sub_line</th>\n",
              "      <th>body_lines</th>\n",
              "      <th>blank_lines</th>\n",
              "      <th>is_spam</th>\n",
              "    </tr>\n",
              "  </thead>\n",
              "  <tbody>\n",
              "    <tr>\n",
              "      <th>0</th>\n",
              "      <td>00001.7c53336b37003a9286aba55d2945844c</td>\n",
              "      <td>b'    Date:        Wed, 21 Aug 2002 10:54:46 -...</td>\n",
              "      <td>1</td>\n",
              "      <td>0</td>\n",
              "      <td>0</td>\n",
              "      <td>0</td>\n",
              "      <td>0</td>\n",
              "      <td>0</td>\n",
              "      <td>0</td>\n",
              "      <td>0</td>\n",
              "      <td>0</td>\n",
              "      <td>0.0</td>\n",
              "      <td>0</td>\n",
              "      <td>0</td>\n",
              "      <td>93</td>\n",
              "      <td>20</td>\n",
              "      <td>0</td>\n",
              "    </tr>\n",
              "    <tr>\n",
              "      <th>1</th>\n",
              "      <td>00002.9c4069e25e1ef370c078db7ee85ff9ac</td>\n",
              "      <td>b\"Martin A posted:\\nTassos Papadopoulos, the G...</td>\n",
              "      <td>1</td>\n",
              "      <td>0</td>\n",
              "      <td>0</td>\n",
              "      <td>1</td>\n",
              "      <td>2</td>\n",
              "      <td>0</td>\n",
              "      <td>0</td>\n",
              "      <td>0</td>\n",
              "      <td>0</td>\n",
              "      <td>0.0</td>\n",
              "      <td>0</td>\n",
              "      <td>0</td>\n",
              "      <td>65</td>\n",
              "      <td>8</td>\n",
              "      <td>0</td>\n",
              "    </tr>\n",
              "    <tr>\n",
              "      <th>2</th>\n",
              "      <td>00003.860e3c3cee1b42ead714c5c874fe25f7</td>\n",
              "      <td>b\"Man Threatens Explosion In Moscow \\n\\nThursd...</td>\n",
              "      <td>0</td>\n",
              "      <td>0</td>\n",
              "      <td>0</td>\n",
              "      <td>1</td>\n",
              "      <td>2</td>\n",
              "      <td>0</td>\n",
              "      <td>0</td>\n",
              "      <td>0</td>\n",
              "      <td>0</td>\n",
              "      <td>0.0</td>\n",
              "      <td>0</td>\n",
              "      <td>0</td>\n",
              "      <td>73</td>\n",
              "      <td>9</td>\n",
              "      <td>0</td>\n",
              "    </tr>\n",
              "    <tr>\n",
              "      <th>3</th>\n",
              "      <td>00004.864220c5b6930b209cc287c361c99af1</td>\n",
              "      <td>b\"Klez: The Virus That Won't Die\\n \\nAlready t...</td>\n",
              "      <td>0</td>\n",
              "      <td>0</td>\n",
              "      <td>0</td>\n",
              "      <td>1</td>\n",
              "      <td>4</td>\n",
              "      <td>0</td>\n",
              "      <td>0</td>\n",
              "      <td>1</td>\n",
              "      <td>3</td>\n",
              "      <td>3.0</td>\n",
              "      <td>3</td>\n",
              "      <td>0</td>\n",
              "      <td>69</td>\n",
              "      <td>9</td>\n",
              "      <td>0</td>\n",
              "    </tr>\n",
              "    <tr>\n",
              "      <th>4</th>\n",
              "      <td>00005.bf27cdeaf0b8c4647ecd61b1d09da613</td>\n",
              "      <td>b\"&gt;  in adding cream to spaghetti carbonara, w...</td>\n",
              "      <td>1</td>\n",
              "      <td>0</td>\n",
              "      <td>0</td>\n",
              "      <td>1</td>\n",
              "      <td>2</td>\n",
              "      <td>0</td>\n",
              "      <td>0</td>\n",
              "      <td>0</td>\n",
              "      <td>0</td>\n",
              "      <td>0.0</td>\n",
              "      <td>0</td>\n",
              "      <td>0</td>\n",
              "      <td>66</td>\n",
              "      <td>11</td>\n",
              "      <td>0</td>\n",
              "    </tr>\n",
              "  </tbody>\n",
              "</table>\n",
              "</div>"
            ]
          },
          "metadata": {
            "tags": []
          },
          "execution_count": 10
        }
      ]
    },
    {
      "cell_type": "markdown",
      "metadata": {
        "id": "fazXsnq5r-K0"
      },
      "source": [
        "<a name=\"EDA\"></a>\n",
        "### EDA"
      ]
    },
    {
      "cell_type": "markdown",
      "metadata": {
        "id": "lrywBMrctDOg"
      },
      "source": [
        "Let's start by getting a list of columns (before NLP):"
      ]
    },
    {
      "cell_type": "code",
      "metadata": {
        "id": "Ox9PZkjutDOg",
        "outputId": "fe98f2a8-7487-49f7-ba4d-39e1a9c0a253"
      },
      "source": [
        "results_df.columns"
      ],
      "execution_count": null,
      "outputs": [
        {
          "output_type": "execute_result",
          "data": {
            "text/plain": [
              "Index(['filename', 'email_body', 'contains_reply', 'is_multipart',\n",
              "       'sub_line_all_caps', 'sub_line_punctuation', 'sub_line_punctuation_cnt',\n",
              "       'sub_line_repeat_punct', 'sub_line_repeat_punct_cnt',\n",
              "       'sub_line_cap_words_cnt', 'sub_line_cap_length_total',\n",
              "       'sub_line_cap_length_average', 'sub_line_cap_length_longest',\n",
              "       'digits_in_sub_line', 'body_lines', 'blank_lines', 'is_spam'],\n",
              "      dtype='object')"
            ]
          },
          "metadata": {
            "tags": []
          },
          "execution_count": 11
        }
      ]
    },
    {
      "cell_type": "markdown",
      "metadata": {
        "id": "ugJDacwytDOh"
      },
      "source": [
        "It's a good idea to get some summary statistics about each of these columns. While there are outliers, these values are all valid (they were just generated) so we will leave all of them in. It does speak to a need to normalize our data, so we'll do that later:"
      ]
    },
    {
      "cell_type": "code",
      "metadata": {
        "id": "b8RXwN12tDOh",
        "outputId": "18078e83-8128-43dd-caf5-f09cba29b649"
      },
      "source": [
        "results_df.describe()"
      ],
      "execution_count": null,
      "outputs": [
        {
          "output_type": "execute_result",
          "data": {
            "text/html": [
              "<div>\n",
              "<style scoped>\n",
              "    .dataframe tbody tr th:only-of-type {\n",
              "        vertical-align: middle;\n",
              "    }\n",
              "\n",
              "    .dataframe tbody tr th {\n",
              "        vertical-align: top;\n",
              "    }\n",
              "\n",
              "    .dataframe thead th {\n",
              "        text-align: right;\n",
              "    }\n",
              "</style>\n",
              "<table border=\"1\" class=\"dataframe\">\n",
              "  <thead>\n",
              "    <tr style=\"text-align: right;\">\n",
              "      <th></th>\n",
              "      <th>contains_reply</th>\n",
              "      <th>is_multipart</th>\n",
              "      <th>sub_line_all_caps</th>\n",
              "      <th>sub_line_punctuation</th>\n",
              "      <th>sub_line_punctuation_cnt</th>\n",
              "      <th>sub_line_repeat_punct</th>\n",
              "      <th>sub_line_repeat_punct_cnt</th>\n",
              "      <th>sub_line_cap_words_cnt</th>\n",
              "      <th>sub_line_cap_length_total</th>\n",
              "      <th>sub_line_cap_length_average</th>\n",
              "      <th>sub_line_cap_length_longest</th>\n",
              "      <th>digits_in_sub_line</th>\n",
              "      <th>body_lines</th>\n",
              "      <th>blank_lines</th>\n",
              "      <th>is_spam</th>\n",
              "    </tr>\n",
              "  </thead>\n",
              "  <tbody>\n",
              "    <tr>\n",
              "      <th>count</th>\n",
              "      <td>9353.000000</td>\n",
              "      <td>9353.000000</td>\n",
              "      <td>9353.000000</td>\n",
              "      <td>9353.000000</td>\n",
              "      <td>9353.000000</td>\n",
              "      <td>9353.000000</td>\n",
              "      <td>9353.00000</td>\n",
              "      <td>9353.000000</td>\n",
              "      <td>9353.000000</td>\n",
              "      <td>9353.000000</td>\n",
              "      <td>9353.000000</td>\n",
              "      <td>9353.000000</td>\n",
              "      <td>9353.000000</td>\n",
              "      <td>9353.000000</td>\n",
              "      <td>9353.000000</td>\n",
              "    </tr>\n",
              "    <tr>\n",
              "      <th>mean</th>\n",
              "      <td>0.392067</td>\n",
              "      <td>0.080616</td>\n",
              "      <td>0.024912</td>\n",
              "      <td>0.710788</td>\n",
              "      <td>2.580455</td>\n",
              "      <td>0.113974</td>\n",
              "      <td>0.59072</td>\n",
              "      <td>0.604512</td>\n",
              "      <td>2.259168</td>\n",
              "      <td>1.166761</td>\n",
              "      <td>1.344595</td>\n",
              "      <td>0.232225</td>\n",
              "      <td>103.692184</td>\n",
              "      <td>15.289319</td>\n",
              "      <td>0.256495</td>\n",
              "    </tr>\n",
              "    <tr>\n",
              "      <th>std</th>\n",
              "      <td>0.488238</td>\n",
              "      <td>0.272259</td>\n",
              "      <td>0.155865</td>\n",
              "      <td>0.453421</td>\n",
              "      <td>19.765579</td>\n",
              "      <td>0.317797</td>\n",
              "      <td>13.61309</td>\n",
              "      <td>1.581412</td>\n",
              "      <td>6.374737</td>\n",
              "      <td>1.884884</td>\n",
              "      <td>2.294328</td>\n",
              "      <td>0.422274</td>\n",
              "      <td>176.618774</td>\n",
              "      <td>31.644949</td>\n",
              "      <td>0.436722</td>\n",
              "    </tr>\n",
              "    <tr>\n",
              "      <th>min</th>\n",
              "      <td>0.000000</td>\n",
              "      <td>0.000000</td>\n",
              "      <td>0.000000</td>\n",
              "      <td>0.000000</td>\n",
              "      <td>0.000000</td>\n",
              "      <td>0.000000</td>\n",
              "      <td>0.00000</td>\n",
              "      <td>0.000000</td>\n",
              "      <td>0.000000</td>\n",
              "      <td>0.000000</td>\n",
              "      <td>0.000000</td>\n",
              "      <td>0.000000</td>\n",
              "      <td>9.000000</td>\n",
              "      <td>0.000000</td>\n",
              "      <td>0.000000</td>\n",
              "    </tr>\n",
              "    <tr>\n",
              "      <th>25%</th>\n",
              "      <td>0.000000</td>\n",
              "      <td>0.000000</td>\n",
              "      <td>0.000000</td>\n",
              "      <td>0.000000</td>\n",
              "      <td>0.000000</td>\n",
              "      <td>0.000000</td>\n",
              "      <td>0.00000</td>\n",
              "      <td>0.000000</td>\n",
              "      <td>0.000000</td>\n",
              "      <td>0.000000</td>\n",
              "      <td>0.000000</td>\n",
              "      <td>0.000000</td>\n",
              "      <td>49.000000</td>\n",
              "      <td>6.000000</td>\n",
              "      <td>0.000000</td>\n",
              "    </tr>\n",
              "    <tr>\n",
              "      <th>50%</th>\n",
              "      <td>0.000000</td>\n",
              "      <td>0.000000</td>\n",
              "      <td>0.000000</td>\n",
              "      <td>1.000000</td>\n",
              "      <td>2.000000</td>\n",
              "      <td>0.000000</td>\n",
              "      <td>0.00000</td>\n",
              "      <td>0.000000</td>\n",
              "      <td>0.000000</td>\n",
              "      <td>0.000000</td>\n",
              "      <td>0.000000</td>\n",
              "      <td>0.000000</td>\n",
              "      <td>69.000000</td>\n",
              "      <td>9.000000</td>\n",
              "      <td>0.000000</td>\n",
              "    </tr>\n",
              "    <tr>\n",
              "      <th>75%</th>\n",
              "      <td>1.000000</td>\n",
              "      <td>0.000000</td>\n",
              "      <td>0.000000</td>\n",
              "      <td>1.000000</td>\n",
              "      <td>3.000000</td>\n",
              "      <td>0.000000</td>\n",
              "      <td>0.00000</td>\n",
              "      <td>1.000000</td>\n",
              "      <td>3.000000</td>\n",
              "      <td>2.500000</td>\n",
              "      <td>3.000000</td>\n",
              "      <td>0.000000</td>\n",
              "      <td>98.000000</td>\n",
              "      <td>14.000000</td>\n",
              "      <td>1.000000</td>\n",
              "    </tr>\n",
              "    <tr>\n",
              "      <th>max</th>\n",
              "      <td>1.000000</td>\n",
              "      <td>1.000000</td>\n",
              "      <td>1.000000</td>\n",
              "      <td>1.000000</td>\n",
              "      <td>1884.000000</td>\n",
              "      <td>1.000000</td>\n",
              "      <td>1290.00000</td>\n",
              "      <td>104.000000</td>\n",
              "      <td>354.000000</td>\n",
              "      <td>12.000000</td>\n",
              "      <td>14.000000</td>\n",
              "      <td>1.000000</td>\n",
              "      <td>6310.000000</td>\n",
              "      <td>756.000000</td>\n",
              "      <td>1.000000</td>\n",
              "    </tr>\n",
              "  </tbody>\n",
              "</table>\n",
              "</div>"
            ],
            "text/plain": [
              "       contains_reply  is_multipart  sub_line_all_caps  sub_line_punctuation  \\\n",
              "count     9353.000000   9353.000000        9353.000000           9353.000000   \n",
              "mean         0.392067      0.080616           0.024912              0.710788   \n",
              "std          0.488238      0.272259           0.155865              0.453421   \n",
              "min          0.000000      0.000000           0.000000              0.000000   \n",
              "25%          0.000000      0.000000           0.000000              0.000000   \n",
              "50%          0.000000      0.000000           0.000000              1.000000   \n",
              "75%          1.000000      0.000000           0.000000              1.000000   \n",
              "max          1.000000      1.000000           1.000000              1.000000   \n",
              "\n",
              "       sub_line_punctuation_cnt  sub_line_repeat_punct  \\\n",
              "count               9353.000000            9353.000000   \n",
              "mean                   2.580455               0.113974   \n",
              "std                   19.765579               0.317797   \n",
              "min                    0.000000               0.000000   \n",
              "25%                    0.000000               0.000000   \n",
              "50%                    2.000000               0.000000   \n",
              "75%                    3.000000               0.000000   \n",
              "max                 1884.000000               1.000000   \n",
              "\n",
              "       sub_line_repeat_punct_cnt  sub_line_cap_words_cnt  \\\n",
              "count                 9353.00000             9353.000000   \n",
              "mean                     0.59072                0.604512   \n",
              "std                     13.61309                1.581412   \n",
              "min                      0.00000                0.000000   \n",
              "25%                      0.00000                0.000000   \n",
              "50%                      0.00000                0.000000   \n",
              "75%                      0.00000                1.000000   \n",
              "max                   1290.00000              104.000000   \n",
              "\n",
              "       sub_line_cap_length_total  sub_line_cap_length_average  \\\n",
              "count                9353.000000                  9353.000000   \n",
              "mean                    2.259168                     1.166761   \n",
              "std                     6.374737                     1.884884   \n",
              "min                     0.000000                     0.000000   \n",
              "25%                     0.000000                     0.000000   \n",
              "50%                     0.000000                     0.000000   \n",
              "75%                     3.000000                     2.500000   \n",
              "max                   354.000000                    12.000000   \n",
              "\n",
              "       sub_line_cap_length_longest  digits_in_sub_line   body_lines  \\\n",
              "count                  9353.000000         9353.000000  9353.000000   \n",
              "mean                      1.344595            0.232225   103.692184   \n",
              "std                       2.294328            0.422274   176.618774   \n",
              "min                       0.000000            0.000000     9.000000   \n",
              "25%                       0.000000            0.000000    49.000000   \n",
              "50%                       0.000000            0.000000    69.000000   \n",
              "75%                       3.000000            0.000000    98.000000   \n",
              "max                      14.000000            1.000000  6310.000000   \n",
              "\n",
              "       blank_lines      is_spam  \n",
              "count  9353.000000  9353.000000  \n",
              "mean     15.289319     0.256495  \n",
              "std      31.644949     0.436722  \n",
              "min       0.000000     0.000000  \n",
              "25%       6.000000     0.000000  \n",
              "50%       9.000000     0.000000  \n",
              "75%      14.000000     1.000000  \n",
              "max     756.000000     1.000000  "
            ]
          },
          "metadata": {
            "tags": []
          },
          "execution_count": 9
        }
      ]
    },
    {
      "cell_type": "markdown",
      "metadata": {
        "id": "e0k1I_m3tDOi"
      },
      "source": [
        "We want a count of non-spam (value=0) versus spam (value=1). We also want this information in a percentage. Roughly 74.3% of our data is non-spam, so we'll need to stratify our splits later:"
      ]
    },
    {
      "cell_type": "code",
      "metadata": {
        "id": "tO8BBCEytDOi",
        "outputId": "2598fe9d-f30a-4ab6-cd1c-1977bc46a90a"
      },
      "source": [
        "results_df['is_spam'].value_counts(normalize=False)"
      ],
      "execution_count": null,
      "outputs": [
        {
          "output_type": "execute_result",
          "data": {
            "text/plain": [
              "0    6954\n",
              "1    2399\n",
              "Name: is_spam, dtype: int64"
            ]
          },
          "metadata": {
            "tags": []
          },
          "execution_count": 12
        }
      ]
    },
    {
      "cell_type": "code",
      "metadata": {
        "id": "nMofwZH3tDOi",
        "outputId": "d4bea2a9-9510-4b0e-f8ee-1bb442c2aa0f"
      },
      "source": [
        "results_df['is_spam'].value_counts(normalize=True)"
      ],
      "execution_count": null,
      "outputs": [
        {
          "output_type": "execute_result",
          "data": {
            "text/plain": [
              "0    0.743505\n",
              "1    0.256495\n",
              "Name: is_spam, dtype: float64"
            ]
          },
          "metadata": {
            "tags": []
          },
          "execution_count": 13
        }
      ]
    },
    {
      "cell_type": "markdown",
      "metadata": {
        "id": "i4g7Wx7WtDOj"
      },
      "source": [
        "Most of our data is NOT heavily correlated (at least, correlated r<0.50). There are some features that are (such as things related to capitalized words) but since our goal is not feature importance, we will leave all features in the model:"
      ]
    },
    {
      "cell_type": "code",
      "metadata": {
        "id": "xUzDnFC_tDOj",
        "outputId": "3654ca42-5985-4674-c1e0-8b3875f19b48"
      },
      "source": [
        "corrMatrix = results_df.corr()\n",
        "sns.heatmap(corrMatrix, annot=True)\n",
        "plt.show()"
      ],
      "execution_count": null,
      "outputs": [
        {
          "output_type": "display_data",
          "data": {
            "image/png": "[encoded data removed]",
            "text/plain": [
              "<Figure size 432x288 with 2 Axes>"
            ]
          },
          "metadata": {
            "tags": [],
            "needs_background": "light"
          }
        }
      ]
    },
    {
      "cell_type": "markdown",
      "metadata": {
        "id": "WkTMq8SQtDOk"
      },
      "source": [
        "<a name=\"Missing\"></a>\n",
        "### Missing Data\n",
        "No fields have missing data:"
      ]
    },
    {
      "cell_type": "code",
      "metadata": {
        "id": "oRoq-wedtDOl",
        "outputId": "352bdb00-08e1-4e2c-e3f2-a33150a90d77"
      },
      "source": [
        "results_df.isnull().sum()"
      ],
      "execution_count": null,
      "outputs": [
        {
          "output_type": "execute_result",
          "data": {
            "text/plain": [
              "filename                       0\n",
              "email_body                     0\n",
              "contains_reply                 0\n",
              "is_multipart                   0\n",
              "sub_line_all_caps              0\n",
              "sub_line_punctuation           0\n",
              "sub_line_punctuation_cnt       0\n",
              "sub_line_repeat_punct          0\n",
              "sub_line_repeat_punct_cnt      0\n",
              "sub_line_cap_words_cnt         0\n",
              "sub_line_cap_length_total      0\n",
              "sub_line_cap_length_average    0\n",
              "sub_line_cap_length_longest    0\n",
              "digits_in_sub_line             0\n",
              "body_lines                     0\n",
              "blank_lines                    0\n",
              "is_spam                        0\n",
              "dtype: int64"
            ]
          },
          "metadata": {
            "tags": []
          },
          "execution_count": 17
        }
      ]
    },
    {
      "cell_type": "markdown",
      "metadata": {
        "id": "V7kygNn08N-z"
      },
      "source": [
        "### Feature Engineering Email Content Attributes"
      ]
    },
    {
      "cell_type": "code",
      "metadata": {
        "id": "FSUQSf5Y8MsP"
      },
      "source": [
        "# cleans email content and provides indicator if it contains a url link or not\n",
        "def clean_email_body(string: 'takes in objects'):\n",
        "    test_var = str(string).replace(r\"\\n\", \"\").replace('\\r','').replace('\\\\', '').replace('-','').replace('_','')\n",
        "    re.sub('^[^A-Za-z]*', '', test_var)\n",
        "    # # remove the leading 'b' since the initial byte dtype is carried over to the str conversion \n",
        "    # test_var = test_var[1:] if test_var[0]=='b' else test_var\n",
        "    # test if email is actually html code and not email\n",
        "    test_var = '' if \"<HTML><HEAD><TITLE>\" in test_var else test_var\n",
        "    # test if email contains a url link to somewhere: 1= yes, 0=no\n",
        "    http_ind = 1 if \"http://\" in test_var else 0\n",
        "    return test_var, http_ind\n",
        "\n",
        "# normalizing text for NLP processing\n",
        "def normalize_text(text):\n",
        "    # lowercase all text\n",
        "    text_normalized = text.lower()\n",
        "\n",
        "    # tokenize the text using TokTok since it's the fastest tokenizer available:\n",
        "    ### Source: https://stackoverflow.com/questions/41912083/nltk-tokenize-faster-way\n",
        "    toktok = ToktokTokenizer()\n",
        "    text_tokenized = toktok.tokenize(text_normalized)\n",
        "\n",
        "    #  filtering out stopwords from text\n",
        "    stop_words = set(stopwords.words('english'))\n",
        "    remove_stopwords = [w for w in text_tokenized if not w.lower() in stop_words]\n",
        "\n",
        "    # stemming\n",
        "    ps = PorterStemmer()\n",
        "    def stemText(text):\n",
        "        stem_text=[]\n",
        "        for word in text:\n",
        "            stem_text.append(ps.stem(word))\n",
        "            stem_text.append(\" \")\n",
        "        return \"\".join(stem_text)\n",
        "    stemmed_text = stemText(remove_stopwords)\n",
        "\n",
        "    return stemmed_text\n",
        "\n",
        "# create basic NLP attributes\n",
        "def getNLPStuff(text):\n",
        "    word_count = len(text)\n",
        "    vocab_size = len(set(text))\n",
        "    # to avoid division by zero\n",
        "    if vocab_size != 0:\n",
        "        diversity_score = vocab_size / word_count\n",
        "    else: diversity_score = 0 # the idea here is that if the vocab_size is 0, then there is no text available so we don't want to score it\n",
        "    return word_count, vocab_size, diversity_score"
      ],
      "execution_count": null,
      "outputs": []
    },
    {
      "cell_type": "code",
      "metadata": {
        "id": "n132IJzX8Qco",
        "colab": {
          "base_uri": "https://localhost:8080/"
        },
        "outputId": "78a8b23b-edd2-4a97-eeb6-5d3d046116b6"
      },
      "source": [
        "%%time\n",
        "# selecting only the filename and email_body from results_df\n",
        "email_body_arr = np.array(results_df.iloc[:,0:2])\n",
        "\n",
        "# get only the email text\n",
        "email_body_arr_text = email_body_arr[:,1]\n",
        "\n",
        "cleaned_text_arr = np.array([])\n",
        "http_ind_arr = np.array([])\n",
        "word_count_arr = np.array([])\n",
        "vocab_size_arr = np.array([])\n",
        "diversity_score_arr = np.array([])\n",
        "\n",
        "for i in email_body_arr_text:\n",
        "    # cleaning email text\n",
        "    cleaned_text_val = clean_email_body(i)[0]\n",
        "    # adds http_ind as well\n",
        "    cleaned_http_ind_val = clean_email_body(i)[1]\n",
        "\n",
        "    # normalizing text\n",
        "    normalized_text = normalize_text(cleaned_text_val)\n",
        "    # get NLP attributes\n",
        "    nlp_attributes = getNLPStuff(normalized_text)\n",
        "\n",
        "    # cleaned email text and transforming to a 2d array to add back to file indexes\n",
        "    cleaned_text_arr = np.append(cleaned_text_arr, normalized_text).reshape((-1,1))\n",
        "    # http_ind\n",
        "    http_ind_arr = np.append(http_ind_arr, cleaned_http_ind_val).reshape((-1,1))\n",
        "    # word_count\n",
        "    word_count_arr = np.append(word_count_arr, nlp_attributes[0]).reshape((-1,1))\n",
        "    # vocab_size\n",
        "    vocab_size_arr  = np.append(vocab_size_arr, nlp_attributes[1]).reshape((-1,1))\n",
        "    # diversity_score\n",
        "    diversity_score_arr = np.append(diversity_score_arr, nlp_attributes[2]).reshape((-1,1))\n",
        "\n",
        "# adding new attributes back to email_body and only preserving the cleaned email content\n",
        "email_body_arr = np.concatenate((email_body_arr[:,0].reshape((-1,1)), cleaned_text_arr, http_ind_arr, word_count_arr, vocab_size_arr, diversity_score_arr), axis=1)"
      ],
      "execution_count": null,
      "outputs": [
        {
          "output_type": "stream",
          "text": [
            "Wall time: 1h 44min 7s\n"
          ],
          "name": "stdout"
        }
      ]
    },
    {
      "cell_type": "code",
      "metadata": {
        "id": "bG16RdVt8MoV"
      },
      "source": [
        "email_df = pd.DataFrame(\n",
        "    {\n",
        "        \"filename\": email_body_arr[:,0],\n",
        "        \"email_http_ind\": email_body_arr[:,2],\n",
        "        \"email_word_count\": email_body_arr[:,3],\n",
        "        \"email_vocab_size\": email_body_arr[:,4],\n",
        "        \"email_lexical_diversity_score\": email_body_arr[:,5],\n",
        "    }\n",
        ")\n",
        "\n",
        "combined_df = results_df.merge(email_df, left_on='filename', right_on='filename')\n",
        "combined_df = combined_df.loc[:, combined_df.columns != 'email_body']"
      ],
      "execution_count": null,
      "outputs": []
    },
    {
      "cell_type": "code",
      "metadata": {
        "id": "NXy2V7238Mkj",
        "colab": {
          "base_uri": "https://localhost:8080/",
          "height": 100
        },
        "outputId": "ba54b0a8-f1b2-4387-ca21-a2eba5040e00"
      },
      "source": [
        "combined_df.head(1)"
      ],
      "execution_count": null,
      "outputs": [
        {
          "output_type": "execute_result",
          "data": {
            "text/plain": [
              "                                 filename  contains_reply  is_multipart  \\\n",
              "0  00001.7c53336b37003a9286aba55d2945844c               1             0   \n",
              "\n",
              "   sub_line_all_caps  sub_line_punctuation  sub_line_punctuation_cnt  \\\n",
              "0                  0                     0                         0   \n",
              "\n",
              "   sub_line_repeat_punct  sub_line_repeat_punct_cnt  sub_line_cap_words_cnt  \\\n",
              "0                      0                          0                       0   \n",
              "\n",
              "   sub_line_cap_length_total  sub_line_cap_length_average  \\\n",
              "0                          0                          0.0   \n",
              "\n",
              "   sub_line_cap_length_longest  digits_in_sub_line  body_lines  blank_lines  \\\n",
              "0                            0                   0          93           20   \n",
              "\n",
              "   is_spam email_http_ind email_word_count email_vocab_size  \\\n",
              "0        0            0.0           1265.0             57.0   \n",
              "\n",
              "  email_lexical_diversity_score  \n",
              "0                      0.045059  "
            ],
            "text/html": [
              "<div>\n",
              "<style scoped>\n",
              "    .dataframe tbody tr th:only-of-type {\n",
              "        vertical-align: middle;\n",
              "    }\n",
              "\n",
              "    .dataframe tbody tr th {\n",
              "        vertical-align: top;\n",
              "    }\n",
              "\n",
              "    .dataframe thead th {\n",
              "        text-align: right;\n",
              "    }\n",
              "</style>\n",
              "<table border=\"1\" class=\"dataframe\">\n",
              "  <thead>\n",
              "    <tr style=\"text-align: right;\">\n",
              "      <th></th>\n",
              "      <th>filename</th>\n",
              "      <th>contains_reply</th>\n",
              "      <th>is_multipart</th>\n",
              "      <th>sub_line_all_caps</th>\n",
              "      <th>sub_line_punctuation</th>\n",
              "      <th>sub_line_punctuation_cnt</th>\n",
              "      <th>sub_line_repeat_punct</th>\n",
              "      <th>sub_line_repeat_punct_cnt</th>\n",
              "      <th>sub_line_cap_words_cnt</th>\n",
              "      <th>sub_line_cap_length_total</th>\n",
              "      <th>sub_line_cap_length_average</th>\n",
              "      <th>sub_line_cap_length_longest</th>\n",
              "      <th>digits_in_sub_line</th>\n",
              "      <th>body_lines</th>\n",
              "      <th>blank_lines</th>\n",
              "      <th>is_spam</th>\n",
              "      <th>email_http_ind</th>\n",
              "      <th>email_word_count</th>\n",
              "      <th>email_vocab_size</th>\n",
              "      <th>email_lexical_diversity_score</th>\n",
              "    </tr>\n",
              "  </thead>\n",
              "  <tbody>\n",
              "    <tr>\n",
              "      <th>0</th>\n",
              "      <td>00001.7c53336b37003a9286aba55d2945844c</td>\n",
              "      <td>1</td>\n",
              "      <td>0</td>\n",
              "      <td>0</td>\n",
              "      <td>0</td>\n",
              "      <td>0</td>\n",
              "      <td>0</td>\n",
              "      <td>0</td>\n",
              "      <td>0</td>\n",
              "      <td>0</td>\n",
              "      <td>0.0</td>\n",
              "      <td>0</td>\n",
              "      <td>0</td>\n",
              "      <td>93</td>\n",
              "      <td>20</td>\n",
              "      <td>0</td>\n",
              "      <td>0.0</td>\n",
              "      <td>1265.0</td>\n",
              "      <td>57.0</td>\n",
              "      <td>0.045059</td>\n",
              "    </tr>\n",
              "  </tbody>\n",
              "</table>\n",
              "</div>"
            ]
          },
          "metadata": {
            "tags": []
          },
          "execution_count": 14
        }
      ]
    },
    {
      "cell_type": "markdown",
      "metadata": {
        "id": "75tWjhxfKqtJ"
      },
      "source": [
        "### Setting the target and the attribute data"
      ]
    },
    {
      "cell_type": "code",
      "metadata": {
        "id": "X-uR851TKqtK"
      },
      "source": [
        "# attributes/predictor variables\n",
        "X = combined_df.loc[:, combined_df.columns != \"is_spam\"]\n",
        "X_no_filename = X.loc[:, X.columns != \"filename\"]\n",
        "\n",
        "# target\n",
        "y = combined_df[\"is_spam\"]"
      ],
      "execution_count": null,
      "outputs": []
    },
    {
      "cell_type": "code",
      "metadata": {
        "colab": {
          "base_uri": "https://localhost:8080/"
        },
        "id": "aguoYFwpKn8Z",
        "outputId": "78cba426-a7fa-4153-cd4b-b9d75841d334"
      },
      "source": [
        "y"
      ],
      "execution_count": null,
      "outputs": [
        {
          "output_type": "execute_result",
          "data": {
            "text/plain": [
              "0       0\n",
              "1       0\n",
              "2       0\n",
              "3       0\n",
              "4       0\n",
              "       ..\n",
              "9368    1\n",
              "9369    1\n",
              "9370    1\n",
              "9371    1\n",
              "9372    1\n",
              "Name: is_spam, Length: 9373, dtype: int64"
            ]
          },
          "metadata": {
            "tags": []
          },
          "execution_count": 55
        }
      ]
    },
    {
      "cell_type": "markdown",
      "metadata": {
        "id": "Bbp_Xoj2KqtL"
      },
      "source": [
        "<a name=\"Crossfold\"></a>\n",
        "### Crossfold setup\n",
        " Visualizing Response Variable Balance"
      ]
    },
    {
      "cell_type": "code",
      "metadata": {
        "id": "-01gNSN-KqtM",
        "colab": {
          "base_uri": "https://localhost:8080/",
          "height": 333
        },
        "outputId": "ab4eb043-1a6f-403e-dcb2-e49344c542c2"
      },
      "source": [
        "sns.countplot(y)\n",
        "print(y.value_counts())"
      ],
      "execution_count": null,
      "outputs": [
        {
          "output_type": "stream",
          "text": [
            "0    6966\n",
            "1    2407\n",
            "Name: is_spam, dtype: int64\n"
          ],
          "name": "stdout"
        },
        {
          "output_type": "display_data",
          "data": {
            "text/plain": [
              "<Figure size 432x288 with 1 Axes>"
            ],
            "image/png": "[encoded data removed]"
          },
          "metadata": {
            "tags": [],
            "needs_background": "light"
          }
        }
      ]
    },
    {
      "cell_type": "markdown",
      "metadata": {
        "id": "IMhJdT96KqtM"
      },
      "source": [
        " Because the target data is imbalanced, we want to stratify our folds. Setting up stratified 5 fold cv object."
      ]
    },
    {
      "cell_type": "code",
      "metadata": {
        "id": "kCr7deKVKqtN"
      },
      "source": [
        "# setting up a cv object\n",
        "cv = StratifiedKFold(n_splits=5, shuffle=True, random_state=24)"
      ],
      "execution_count": null,
      "outputs": []
    },
    {
      "cell_type": "markdown",
      "metadata": {
        "id": "3evj1gbrKqtN"
      },
      "source": [
        "<a name=\"Clustering\"></a>\n",
        "# Clustering"
      ]
    },
    {
      "cell_type": "markdown",
      "metadata": {
        "id": "fNRo0Kr1KqtO"
      },
      "source": [
        "Gridsearch/tune hyper parameters for DBScan"
      ]
    },
    {
      "cell_type": "code",
      "metadata": {
        "id": "TCa29RWZKqtO",
        "colab": {
          "base_uri": "https://localhost:8080/"
        },
        "outputId": "21a6568c-3a0b-42f8-b06e-57cea4ce11ef"
      },
      "source": [
        "# dbscan\n",
        "cluster_dbs = DBSCAN()\n",
        "\n",
        "# setting the grid parameters - dbscan\n",
        "grid_dbs = {}\n",
        "grid_dbs[\"eps\"] = [.1, .25, .5, .75, 1]\n",
        "grid_dbs[\"min_samples\"] = [3, 6, 8, 10, 12]\n",
        "\n",
        "dbs_results_v_measure = grid_search(\n",
        "    X=X_no_filename, y=y, model=cluster_dbs, grid=grid_dbs, score=\"v_measure_score\", cv=cv\n",
        ")\n",
        "\n",
        "# summarize dbscan grid search\n",
        "print(\"Mean V Measure: %.3f\" % dbs_results_v_measure.best_score_)\n",
        "print(\"Config V Measure: %s\" % dbs_results_v_measure.best_params_)\n",
        "print(f\"Best estimator: {dbs_results_v_measure.best_estimator_}\\n\")"
      ],
      "execution_count": null,
      "outputs": [
        {
          "output_type": "stream",
          "text": [
            "Fitting 5 folds for each of 25 candidates, totalling 125 fits\n",
            "Mean V Measure: nan\n",
            "Config V Measure: {'eps': 0.1, 'min_samples': 3}\n",
            "Best estimator: DBSCAN(eps=0.1, min_samples=3)\n",
            "\n"
          ],
          "name": "stdout"
        }
      ]
    },
    {
      "cell_type": "markdown",
      "metadata": {
        "id": "0ib0n7S1MDis"
      },
      "source": [
        "Setting the best parameters for dbscan clusters"
      ]
    },
    {
      "cell_type": "code",
      "metadata": {
        "id": "euPtVv2sMART"
      },
      "source": [
        "clf_dbs = dbs_results_v_measure.best_estimator_"
      ],
      "execution_count": null,
      "outputs": []
    },
    {
      "cell_type": "code",
      "metadata": {
        "id": "ndTAtostKqtP"
      },
      "source": [
        "# adding the cluster label as an attribute\n",
        "X_no_filename[\"cluster_id\"] = clf_dbs.labels_"
      ],
      "execution_count": null,
      "outputs": []
    },
    {
      "cell_type": "markdown",
      "metadata": {
        "id": "gJ3lXfWoKqtP"
      },
      "source": [
        "### Use Proper Variable Representations"
      ]
    },
    {
      "cell_type": "code",
      "metadata": {
        "id": "NPCP2GfwKqtP",
        "colab": {
          "base_uri": "https://localhost:8080/"
        },
        "outputId": "7a209d3a-9022-4f63-a6f4-e8e758496cfc"
      },
      "source": [
        "X_no_filename.info()"
      ],
      "execution_count": null,
      "outputs": [
        {
          "output_type": "stream",
          "text": [
            "<class 'pandas.core.frame.DataFrame'>\n",
            "Int64Index: 9373 entries, 0 to 9372\n",
            "Data columns (total 19 columns):\n",
            " #   Column                         Non-Null Count  Dtype  \n",
            "---  ------                         --------------  -----  \n",
            " 0   contains_reply                 9373 non-null   int64  \n",
            " 1   is_multipart                   9373 non-null   int64  \n",
            " 2   sub_line_all_caps              9373 non-null   int64  \n",
            " 3   sub_line_punctuation           9373 non-null   int64  \n",
            " 4   sub_line_punctuation_cnt       9373 non-null   int64  \n",
            " 5   sub_line_repeat_punct          9373 non-null   int64  \n",
            " 6   sub_line_repeat_punct_cnt      9373 non-null   int64  \n",
            " 7   sub_line_cap_words_cnt         9373 non-null   int64  \n",
            " 8   sub_line_cap_length_total      9373 non-null   int64  \n",
            " 9   sub_line_cap_length_average    9373 non-null   float64\n",
            " 10  sub_line_cap_length_longest    9373 non-null   int64  \n",
            " 11  digits_in_sub_line             9373 non-null   int64  \n",
            " 12  body_lines                     9373 non-null   int64  \n",
            " 13  blank_lines                    9373 non-null   int64  \n",
            " 14  email_http_ind                 9373 non-null   object \n",
            " 15  email_word_count               9373 non-null   object \n",
            " 16  email_vocab_size               9373 non-null   object \n",
            " 17  email_lexical_diversity_score  9373 non-null   object \n",
            " 18  cluster_id                     9373 non-null   int32  \n",
            "dtypes: float64(1), int32(1), int64(13), object(4)\n",
            "memory usage: 1.6+ MB\n"
          ],
          "name": "stdout"
        }
      ]
    },
    {
      "cell_type": "code",
      "metadata": {
        "id": "EcC-3YjAKqtQ"
      },
      "source": [
        "# list of categorical attributes\n",
        "categoricals =  [\"contains_reply\",\"is_multipart\",\"sub_line_all_caps\",\"sub_line_punctuation\",\"sub_line_repeat_punct\",\"digits_in_sub_line\",\"cluster_id\"]"
      ],
      "execution_count": null,
      "outputs": []
    },
    {
      "cell_type": "markdown",
      "metadata": {
        "id": "_3gGb1bpKqtQ"
      },
      "source": [
        "### Splitting the data into train/test data"
      ]
    },
    {
      "cell_type": "code",
      "metadata": {
        "id": "p1oo8whgKqtQ"
      },
      "source": [
        "# Using StratifiedShuffleSplit to split into train and test sets to maintain class balance\n",
        "sss = StratifiedShuffleSplit(n_splits=1, test_size=0.2, train_size=0.8, random_state=24)\n",
        "\n",
        "# setting the data and targets to numpy arrays\n",
        "X_Array, y_Array = X_no_filename.to_numpy(), y.to_numpy()\n",
        "\n",
        "# split into training and test sets\n",
        "for train_index, test_index in sss.split(X_Array, y_Array):\n",
        "    X_train, X_test = X_Array[train_index], X_Array[test_index]\n",
        "    y_train, y_test = y_Array[train_index], y_Array[test_index]\n",
        "\n",
        "X_train = pd.DataFrame(X_train, columns=X_no_filename.columns)\n",
        "X_test = pd.DataFrame(X_test, columns=X_no_filename.columns)"
      ],
      "execution_count": null,
      "outputs": []
    },
    {
      "cell_type": "markdown",
      "metadata": {
        "id": "JXE1JwXOKqtR"
      },
      "source": [
        "Setting categoricals as that type"
      ]
    },
    {
      "cell_type": "code",
      "metadata": {
        "id": "G0r8ybs5KqtR"
      },
      "source": [
        "for cat in categoricals:\n",
        "    X_train[cat] = X_train[cat].astype('category')\n",
        "    X_test[cat] = X_test[cat].astype('category')"
      ],
      "execution_count": null,
      "outputs": []
    },
    {
      "cell_type": "markdown",
      "metadata": {
        "id": "61ZHATwBKqtS"
      },
      "source": [
        "<a name=\"Scaling\"></a>\n",
        "### Scaling/normalizing the data"
      ]
    },
    {
      "cell_type": "code",
      "metadata": {
        "id": "bu54tB9WKqtS"
      },
      "source": [
        "# get numeric columns\n",
        "X_continuous_train = X_train.drop(categoricals, axis=1)\n",
        "X_continuous_test = X_test.drop(categoricals, axis=1)\n",
        "\n",
        "X_continuous_columns = X_continuous_train.columns"
      ],
      "execution_count": null,
      "outputs": []
    },
    {
      "cell_type": "code",
      "metadata": {
        "id": "GMak78wnKqtS"
      },
      "source": [
        "# set the scaler\n",
        "scl = StandardScaler()\n",
        "\n",
        "# fit and transform\n",
        "scl.fit(X_continuous_train)\n",
        "X_train_continous_scale = scl.transform(X_continuous_train)\n",
        "X_train_scale = pd.DataFrame(X_train_continous_scale, columns=X_continuous_columns)\n",
        "\n",
        "scl.fit(X_continuous_test)\n",
        "X_test_continous_scale = scl.transform(X_continuous_test)\n",
        "X_test_scale = pd.DataFrame(X_test_continous_scale, columns=X_continuous_columns)"
      ],
      "execution_count": null,
      "outputs": []
    },
    {
      "cell_type": "code",
      "metadata": {
        "id": "FnmB1nzlKqtS"
      },
      "source": [
        "# replace all numeric with scaled numeric\n",
        "X_train = X_train.assign(**X_train_scale.to_dict(orient=\"series\"))\n",
        "X_test = X_test.assign(**X_test_scale.to_dict(orient=\"series\"))"
      ],
      "execution_count": null,
      "outputs": []
    },
    {
      "cell_type": "code",
      "metadata": {
        "id": "v7WY3wa7KqtT"
      },
      "source": [
        "X_train_ohe = pd.get_dummies(X_train, drop_first=True)\n",
        "X_test_ohe = pd.get_dummies(X_test, drop_first=True)"
      ],
      "execution_count": null,
      "outputs": []
    },
    {
      "cell_type": "markdown",
      "metadata": {
        "id": "gbMBpWdtKqtT"
      },
      "source": [
        "<a name=\"NaiveBayes\"></a>\n",
        "# Naive Bayes Modeling\n",
        "## Naive Bayes Classification"
      ]
    },
    {
      "cell_type": "markdown",
      "metadata": {
        "id": "xftL67XhKqtU"
      },
      "source": [
        "Gridsearch/tune hyper parameters for Naive Bayes"
      ]
    },
    {
      "cell_type": "code",
      "metadata": {
        "id": "DC5R6vfHKqtU",
        "colab": {
          "base_uri": "https://localhost:8080/"
        },
        "outputId": "76ddca89-3e12-4da0-df65-3877b755b1b1"
      },
      "source": [
        "clf_GNB = GaussianNB()\n",
        "\n",
        "# setting the parameters\n",
        "grid = {}\n",
        "grid[\"var_smoothing\"] = [0.0001, 0.001, 0.01, 0.1, 1, 5, 10]\n",
        "\n",
        "# define search\n",
        "search_f1 = GridSearchCV(clf_GNB, grid, scoring=\"f1\", cv=cv, n_jobs=nj, verbose=1)\n",
        "\n",
        "# perform the search\n",
        "results_f1_nb = search_f1.fit(X_train, y_train)\n",
        "\n",
        "# summarize the results\n",
        "print(\"Mean f1: %.3f\" % results_f1_nb.best_score_)\n",
        "print(\"Config f1: %s\" % results_f1_nb.best_params_)\n",
        "print(f\"Best estimator: {results_f1_nb.best_estimator_}\\n\")"
      ],
      "execution_count": null,
      "outputs": [
        {
          "output_type": "stream",
          "text": [
            "Fitting 5 folds for each of 7 candidates, totalling 35 fits\n",
            "Mean f1: 0.423\n",
            "Config f1: {'var_smoothing': 0.0001}\n",
            "Best estimator: GaussianNB(var_smoothing=0.0001)\n",
            "\n"
          ],
          "name": "stdout"
        }
      ]
    },
    {
      "cell_type": "markdown",
      "metadata": {
        "id": "dmxCV0ExKbco"
      },
      "source": [
        "<a name=\"F1Scores\"></a>\n",
        "## F1 Scores\n",
        "\n",
        "Results running NB on only results_df (no NLP attributes)\n",
        "```\n",
        "Fitting 5 folds for each of 7 candidates, totalling 35 fits\n",
        "Mean f1: 0.250\n",
        "Config f1: {'var_smoothing': 0.0001}\n",
        "Best estimator: GaussianNB(var_smoothing=0.0001)\n",
        "```\n",
        "Results running NB on combined_df (includes NLP attributes)\n",
        "```\n",
        "Fitting 5 folds for each of 7 candidates, totalling 35 fits\n",
        "Mean f1: 0.423\n",
        "Config f1: {'var_smoothing': 0.0001}\n",
        "Best estimator: GaussianNB(var_smoothing=0.0001)\n",
        "```\n",
        "\n",
        "\n",
        "\n"
      ]
    },
    {
      "cell_type": "markdown",
      "metadata": {
        "id": "BAgN2_fzLsnc"
      },
      "source": [
        "Setting the parameters for the Naive Bayes model based on F1 score"
      ]
    },
    {
      "cell_type": "code",
      "metadata": {
        "id": "yR24MZQAKqtV"
      },
      "source": [
        "clf_GNB = results_f1_nb.best_estimator_"
      ],
      "execution_count": null,
      "outputs": []
    },
    {
      "cell_type": "markdown",
      "metadata": {
        "id": "5R4_xJZ6n3kA"
      },
      "source": [
        "<a name=\"ROCCurve\"></a>\n",
        "## ROC Curve"
      ]
    },
    {
      "cell_type": "code",
      "metadata": {
        "id": "v6ZIJH0DKqtV",
        "colab": {
          "base_uri": "https://localhost:8080/",
          "height": 283
        },
        "outputId": "2eb177ca-d47e-4401-e4e5-21069e2ac067"
      },
      "source": [
        "# plot the ROC curve on the test data for Naive Bayes\n",
        "clf_GNB.fit(X_train, y_train)\n",
        "Y_pred_GNB_prob = clf_GNB.predict_proba(X_test)[::,1]\n",
        "fpr_GNB, tpr_GNB, _ = metrics.roc_curve(y_test, Y_pred_GNB_prob)\n",
        "auc_GNB = metrics.roc_auc_score(y_test, Y_pred_GNB_prob)\n",
        "plt.plot(fpr_GNB, tpr_GNB, label=\"Gaussian Naive Bayes, auc=\" + str(auc_GNB))"
      ],
      "execution_count": null,
      "outputs": [
        {
          "output_type": "execute_result",
          "data": {
            "text/plain": [
              "[<matplotlib.lines.Line2D at 0x2469fcfffd0>]"
            ]
          },
          "metadata": {
            "tags": []
          },
          "execution_count": 71
        },
        {
          "output_type": "display_data",
          "data": {
            "text/plain": [
              "<Figure size 432x288 with 1 Axes>"
            ],
            "image/png": "[encoded data removed]"
          },
          "metadata": {
            "tags": [],
            "needs_background": "light"
          }
        }
      ]
    },
    {
      "cell_type": "markdown",
      "metadata": {
        "id": "zh1ql_B4oEhL"
      },
      "source": [
        "<a name=\"ConfusionMatrix\"></a>\n",
        "## Confusion Matrix"
      ]
    },
    {
      "cell_type": "code",
      "metadata": {
        "id": "5pzfQmf7KqtV",
        "colab": {
          "base_uri": "https://localhost:8080/",
          "height": 299
        },
        "outputId": "457256d9-d640-46ca-f96b-90b392d5d86e"
      },
      "source": [
        "# plot the confusion matrix for Naive Bayes\n",
        "Y_pred_NGB = clf_GNB.predict(X_test)\n",
        "cmd(confusion_matrix(y_test, Y_pred_NGB)).plot()\n"
      ],
      "execution_count": null,
      "outputs": [
        {
          "output_type": "execute_result",
          "data": {
            "text/plain": [
              "<sklearn.metrics._plot.confusion_matrix.ConfusionMatrixDisplay at 0x2469fe93d90>"
            ]
          },
          "metadata": {
            "tags": []
          },
          "execution_count": 72
        },
        {
          "output_type": "display_data",
          "data": {
            "text/plain": [
              "<Figure size 432x288 with 2 Axes>"
            ],
            "image/png": "[encoded data removed]"
          },
          "metadata": {
            "tags": [],
            "needs_background": "light"
          }
        }
      ]
    }
  ]
}