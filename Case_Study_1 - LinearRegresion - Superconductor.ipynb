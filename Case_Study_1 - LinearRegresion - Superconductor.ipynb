{
  "nbformat": 4,
  "nbformat_minor": 0,
  "metadata": {
    "colab": {
      "name": "Case Study 1  (Team DEAN)",
      "provenance": [],
      "collapsed_sections": []
    },
    "kernelspec": {
      "name": "python3",
      "display_name": "Python 3"
    },
    "language_info": {
      "name": "python"
    }
  },
  "cells": [
    {
      "cell_type": "markdown",
      "metadata": {
        "id": "kcI7SMrJsD_y"
      },
      "source": [
        "#Case Study 1: Superconductors\n",
        "##Team DEAN:\n",
        "###**D**avid Wei | **E**dward Roske | **A**dam Canton | **N**eil Benson\n",
        "\n",
        "##Team Goal:  \n",
        "To create a linear regression model to answer:\n",
        "- Can we make a formula to determine at what *critical_temp* will materials become superconductors?\n",
        "- Which variables carry the most importance?  \n",
        "\n",
        "##Introduction\n",
        "We were presented with two large files with extensive data on various materials. Of the greatest importance was at what temperature these materials became superconductors (when those materials could transmit electricity with no resistance). We needed to join these files together and run a linear regression model to get weights (relative importances) for each of our many, many attributes.  \n",
        "  \n",
        "##Modeling  \n",
        "Our group of data science professionals here at Team DEAN didn't just make a simple linear regression model, we also developed more complicated models using techniques like Lasso (Least Absolute Shrinkage and Selection Operator) and Ridge regression to make sure we weren't overfitting to our dataset.  \n",
        "\n",
        "We also ran PCA (Principle Component Analysis) to see if we could reasonably reduce our large number of attributes down to a more easily digestible set of attributes. As is noted in the details below, we found that just 3 of our attributes contributed to over 32% of the variation in our model.\n",
        "\n",
        "We optimized the hyperparameters for both Lasso and Ridge Regression. This was critical to finding the best possible models without overfitting.\n",
        "\n",
        "That said, our final model ended up using simple Linear Regression because our stated goal was to create an accurate formula for determining critical temperatures. The most accurate formula was found by using all of the data in simple Linear Regression. If this model is determined to have too much bias as additional materials are tested, then the less-biased Lasso and Ridge models are contained below as well.\n",
        "\n",
        "##Conclusion\n",
        "We strongly advise skipping all the gory details found on the next several pages and jumping to the end of this report (to the section titled \"Conclusion\"). The majority of the next few pages are certainly interesting to the right audience, but they're not critical to answering the questions at hand.\n",
        "  \n",
        "***\n",
        "    \n",
        "Note: some portions of the notebook may have repurposed/reused code/text from prior case studies.  "
      ]
    },
    {
      "cell_type": "markdown",
      "metadata": {
        "id": "gcRh_YtHxdgu"
      },
      "source": [
        "#Setup"
      ]
    },
    {
      "cell_type": "markdown",
      "metadata": {
        "id": "Huy8ePBd9yuJ"
      },
      "source": [
        "## Performance Optimization"
      ]
    },
    {
      "cell_type": "markdown",
      "metadata": {
        "id": "-5jrGhsV7n-c"
      },
      "source": [
        "If running into RAM issues while running on the hosted runtime, run locally using the following command (from anaconda prompt):\n",
        "\n",
        "`pip install --upgrade jupyter_http_over_ws`\n",
        "\n",
        "`jupyter notebook --NotebookApp.allow_origin='https://colab.research.google.com' --port=8888 --NotebookApp.port_retries=0`"
      ]
    },
    {
      "cell_type": "markdown",
      "metadata": {
        "id": "txmfNxzE7tiZ"
      },
      "source": [
        "## Package Loading"
      ]
    },
    {
      "cell_type": "code",
      "metadata": {
        "id": "p9Qtf-g7xKkE"
      },
      "source": [
        "# SKLearn\n",
        "import sklearn\n",
        "from sklearn import datasets, tree, neighbors, decomposition, datasets\n",
        "from sklearn.decomposition import PCA\n",
        "from sklearn.linear_model import LinearRegression, SGDClassifier\n",
        "from sklearn.cluster import KMeans\n",
        "from sklearn.datasets import make_blobs\n",
        "from sklearn.model_selection import train_test_split, StratifiedShuffleSplit, TimeSeriesSplit, GridSearchCV, RandomizedSearchCV, cross_val_score\n",
        "from sklearn.metrics import accuracy_score, roc_auc_score, mean_squared_error, r2_score\n",
        "from sklearn.preprocessing import StandardScaler\n",
        "from sklearn.svm import SVC\n",
        "from sklearn.ensemble import RandomForestClassifier\n",
        "from sklearn.neighbors import KNeighborsClassifier\n",
        "from sklearn.pipeline import Pipeline\n",
        "\n",
        "# Other Packages\n",
        "import numpy as np\n",
        "import matplotlib.pyplot as plt\n",
        "import seaborn as sns\n",
        "import xgboost as xgb\n",
        "import pandas as pd\n",
        "from pandas_profiling import ProfileReport\n",
        "from mpl_toolkits.mplot3d import Axes3D\n",
        "from matplotlib.colors import ListedColormap"
      ],
      "execution_count": null,
      "outputs": []
    },
    {
      "cell_type": "markdown",
      "metadata": {
        "id": "4JeTqsAimklB"
      },
      "source": [
        "#Data Preparation    \n",
        "We had two files to load. They had the same number of rows, but they needed to be combined, so we merged the data into a single dataset."
      ]
    },
    {
      "cell_type": "code",
      "metadata": {
        "id": "LZXlB19eP3vS",
        "colab": {
          "base_uri": "https://localhost:8080/"
        },
        "outputId": "1aef2f99-4484-4877-dbfa-39cf96341ee1"
      },
      "source": [
        "#@title Data Loading\n",
        "# Data loading\n",
        "df1 = pd.read_csv(\"https://raw.githubusercontent.com/bensonnd/msds/ds7333-neil/ds7333/case_study_1/Data/train.csv\")\n",
        "df2 = pd.read_csv(\"https://raw.githubusercontent.com/bensonnd/msds/ds7333-neil/ds7333/case_study_1/Data/unique_m.csv\")\n",
        "\n",
        "# Change data types\n",
        "#df1['number_of_elements'] = pd.to_numeric(df1['number_of_elements']).astype(int)\n",
        "\n",
        "# Merge dataframes\n",
        "df = pd.concat([df1.reset_index(drop=True), df2], axis=1)\n",
        "\n",
        "# Drop unneeded variables - will remove this after EDA\n",
        "#df = df.drop('material', axis=1) \n",
        "\n",
        "# print out some sample records\n",
        "print(df.head(1))"
      ],
      "execution_count": null,
      "outputs": [
        {
          "output_type": "stream",
          "text": [
            "   number_of_elements  mean_atomic_mass  ...  critical_temp         material\n",
            "0                   4         88.944468  ...           29.0  Ba0.2La1.8Cu1O4\n",
            "\n",
            "[1 rows x 170 columns]\n"
          ],
          "name": "stdout"
        }
      ]
    },
    {
      "cell_type": "markdown",
      "metadata": {
        "id": "fyx8xUD9miSf"
      },
      "source": [
        "# **Data Cleaning**"
      ]
    },
    {
      "cell_type": "markdown",
      "metadata": {
        "id": "j-RjpjE5rhCD"
      },
      "source": [
        "While testing for any duplicate columns (after merging the 2 files together), we saw that most of the columns were unique other than the last index being 'critical_temp' which contained a duplicate (from merging the data set)."
      ]
    },
    {
      "cell_type": "code",
      "metadata": {
        "id": "0fZ_uSGKrFRa",
        "colab": {
          "base_uri": "https://localhost:8080/"
        },
        "outputId": "b9334bd6-7ace-438a-fb63-7bc74176c43d"
      },
      "source": [
        "df.columns.duplicated()"
      ],
      "execution_count": null,
      "outputs": [
        {
          "output_type": "execute_result",
          "data": {
            "text/plain": [
              "array([False, False, False, False, False, False, False, False, False,\n",
              "       False, False, False, False, False, False, False, False, False,\n",
              "       False, False, False, False, False, False, False, False, False,\n",
              "       False, False, False, False, False, False, False, False, False,\n",
              "       False, False, False, False, False, False, False, False, False,\n",
              "       False, False, False, False, False, False, False, False, False,\n",
              "       False, False, False, False, False, False, False, False, False,\n",
              "       False, False, False, False, False, False, False, False, False,\n",
              "       False, False, False, False, False, False, False, False, False,\n",
              "       False, False, False, False, False, False, False, False, False,\n",
              "       False, False, False, False, False, False, False, False, False,\n",
              "       False, False, False, False, False, False, False, False, False,\n",
              "       False, False, False, False, False, False, False, False, False,\n",
              "       False, False, False, False, False, False, False, False, False,\n",
              "       False, False, False, False, False, False, False, False, False,\n",
              "       False, False, False, False, False, False, False, False, False,\n",
              "       False, False, False, False, False, False, False, False, False,\n",
              "       False, False, False, False, False, False, False, False, False,\n",
              "       False, False, False, False, False, False,  True, False])"
            ]
          },
          "metadata": {
            "tags": []
          },
          "execution_count": 3
        }
      ]
    },
    {
      "cell_type": "markdown",
      "metadata": {
        "id": "l6dFd-iemoL3"
      },
      "source": [
        "We noticed that since both filesets contained our response value *critical_temp*, we first tested if all records from the merged dataframe were equal and if they were, we will drop one of the duplicate response columns."
      ]
    },
    {
      "cell_type": "code",
      "metadata": {
        "id": "vW_Td59lmm_p",
        "colab": {
          "base_uri": "https://localhost:8080/"
        },
        "outputId": "7fcdcac8-730b-45e7-c5b5-6aff207ccee1"
      },
      "source": [
        "if df1['critical_temp'].equals(df2['critical_temp']) == True:\n",
        "    print('# of columns BEFORE duplicates:' +str(len(df.columns)))\n",
        "    print('same column values, removing one')\n",
        "    df = df.loc[:,~df.columns.duplicated()]\n",
        "    print('# of columns AFTER duplicates:' +str(len(df.columns)))"
      ],
      "execution_count": null,
      "outputs": [
        {
          "output_type": "stream",
          "text": [
            "# of columns BEFORE duplicates:170\n",
            "same column values, removing one\n",
            "# of columns AFTER duplicates:169\n"
          ],
          "name": "stdout"
        }
      ]
    },
    {
      "cell_type": "markdown",
      "metadata": {
        "id": "MmV2gtx4fiDG"
      },
      "source": [
        "# **Exploratory Data Analysis**\n"
      ]
    },
    {
      "cell_type": "markdown",
      "metadata": {
        "id": "Ge05zl_TE4LH"
      },
      "source": [
        "Our data appeared to have no missing values. This was stated by the requesters of the study, and while we trusted them, it never hurts to verify. In the table below, all of the counts were 21,263, the number of records in our data set."
      ]
    },
    {
      "cell_type": "code",
      "metadata": {
        "id": "ylQzfDjExOiv",
        "colab": {
          "base_uri": "https://localhost:8080/",
          "height": 344
        },
        "outputId": "e6b08a7b-1cca-4cd7-f765-c3ffdceaf0c7"
      },
      "source": [
        "# Output DataFrame columns & types\n",
        "df.describe()"
      ],
      "execution_count": null,
      "outputs": [
        {
          "output_type": "execute_result",
          "data": {
            "text/html": [
              "<div>\n",
              "<style scoped>\n",
              "    .dataframe tbody tr th:only-of-type {\n",
              "        vertical-align: middle;\n",
              "    }\n",
              "\n",
              "    .dataframe tbody tr th {\n",
              "        vertical-align: top;\n",
              "    }\n",
              "\n",
              "    .dataframe thead th {\n",
              "        text-align: right;\n",
              "    }\n",
              "</style>\n",
              "<table border=\"1\" class=\"dataframe\">\n",
              "  <thead>\n",
              "    <tr style=\"text-align: right;\">\n",
              "      <th></th>\n",
              "      <th>number_of_elements</th>\n",
              "      <th>mean_atomic_mass</th>\n",
              "      <th>wtd_mean_atomic_mass</th>\n",
              "      <th>gmean_atomic_mass</th>\n",
              "      <th>wtd_gmean_atomic_mass</th>\n",
              "      <th>entropy_atomic_mass</th>\n",
              "      <th>wtd_entropy_atomic_mass</th>\n",
              "      <th>range_atomic_mass</th>\n",
              "      <th>wtd_range_atomic_mass</th>\n",
              "      <th>std_atomic_mass</th>\n",
              "      <th>wtd_std_atomic_mass</th>\n",
              "      <th>mean_fie</th>\n",
              "      <th>wtd_mean_fie</th>\n",
              "      <th>gmean_fie</th>\n",
              "      <th>wtd_gmean_fie</th>\n",
              "      <th>entropy_fie</th>\n",
              "      <th>wtd_entropy_fie</th>\n",
              "      <th>range_fie</th>\n",
              "      <th>wtd_range_fie</th>\n",
              "      <th>std_fie</th>\n",
              "      <th>wtd_std_fie</th>\n",
              "      <th>mean_atomic_radius</th>\n",
              "      <th>wtd_mean_atomic_radius</th>\n",
              "      <th>gmean_atomic_radius</th>\n",
              "      <th>wtd_gmean_atomic_radius</th>\n",
              "      <th>entropy_atomic_radius</th>\n",
              "      <th>wtd_entropy_atomic_radius</th>\n",
              "      <th>range_atomic_radius</th>\n",
              "      <th>wtd_range_atomic_radius</th>\n",
              "      <th>std_atomic_radius</th>\n",
              "      <th>wtd_std_atomic_radius</th>\n",
              "      <th>mean_Density</th>\n",
              "      <th>wtd_mean_Density</th>\n",
              "      <th>gmean_Density</th>\n",
              "      <th>wtd_gmean_Density</th>\n",
              "      <th>entropy_Density</th>\n",
              "      <th>wtd_entropy_Density</th>\n",
              "      <th>range_Density</th>\n",
              "      <th>wtd_range_Density</th>\n",
              "      <th>std_Density</th>\n",
              "      <th>...</th>\n",
              "      <th>Ag</th>\n",
              "      <th>Cd</th>\n",
              "      <th>In</th>\n",
              "      <th>Sn</th>\n",
              "      <th>Sb</th>\n",
              "      <th>Te</th>\n",
              "      <th>I</th>\n",
              "      <th>Xe</th>\n",
              "      <th>Cs</th>\n",
              "      <th>Ba</th>\n",
              "      <th>La</th>\n",
              "      <th>Ce</th>\n",
              "      <th>Pr</th>\n",
              "      <th>Nd</th>\n",
              "      <th>Pm</th>\n",
              "      <th>Sm</th>\n",
              "      <th>Eu</th>\n",
              "      <th>Gd</th>\n",
              "      <th>Tb</th>\n",
              "      <th>Dy</th>\n",
              "      <th>Ho</th>\n",
              "      <th>Er</th>\n",
              "      <th>Tm</th>\n",
              "      <th>Yb</th>\n",
              "      <th>Lu</th>\n",
              "      <th>Hf</th>\n",
              "      <th>Ta</th>\n",
              "      <th>W</th>\n",
              "      <th>Re</th>\n",
              "      <th>Os</th>\n",
              "      <th>Ir</th>\n",
              "      <th>Pt</th>\n",
              "      <th>Au</th>\n",
              "      <th>Hg</th>\n",
              "      <th>Tl</th>\n",
              "      <th>Pb</th>\n",
              "      <th>Bi</th>\n",
              "      <th>Po</th>\n",
              "      <th>At</th>\n",
              "      <th>Rn</th>\n",
              "    </tr>\n",
              "  </thead>\n",
              "  <tbody>\n",
              "    <tr>\n",
              "      <th>count</th>\n",
              "      <td>21263.000000</td>\n",
              "      <td>21263.000000</td>\n",
              "      <td>21263.000000</td>\n",
              "      <td>21263.000000</td>\n",
              "      <td>21263.000000</td>\n",
              "      <td>21263.000000</td>\n",
              "      <td>21263.000000</td>\n",
              "      <td>21263.000000</td>\n",
              "      <td>21263.000000</td>\n",
              "      <td>21263.000000</td>\n",
              "      <td>21263.000000</td>\n",
              "      <td>21263.000000</td>\n",
              "      <td>21263.000000</td>\n",
              "      <td>21263.000000</td>\n",
              "      <td>21263.000000</td>\n",
              "      <td>21263.000000</td>\n",
              "      <td>21263.000000</td>\n",
              "      <td>21263.000000</td>\n",
              "      <td>21263.000000</td>\n",
              "      <td>21263.000000</td>\n",
              "      <td>21263.000000</td>\n",
              "      <td>21263.000000</td>\n",
              "      <td>21263.000000</td>\n",
              "      <td>21263.000000</td>\n",
              "      <td>21263.000000</td>\n",
              "      <td>21263.000000</td>\n",
              "      <td>21263.000000</td>\n",
              "      <td>21263.000000</td>\n",
              "      <td>21263.000000</td>\n",
              "      <td>21263.000000</td>\n",
              "      <td>21263.000000</td>\n",
              "      <td>21263.000000</td>\n",
              "      <td>21263.000000</td>\n",
              "      <td>21263.000000</td>\n",
              "      <td>21263.000000</td>\n",
              "      <td>21263.000000</td>\n",
              "      <td>21263.000000</td>\n",
              "      <td>21263.000000</td>\n",
              "      <td>21263.000000</td>\n",
              "      <td>21263.000000</td>\n",
              "      <td>...</td>\n",
              "      <td>21263.000000</td>\n",
              "      <td>21263.000000</td>\n",
              "      <td>21263.000000</td>\n",
              "      <td>21263.000000</td>\n",
              "      <td>21263.000000</td>\n",
              "      <td>21263.000000</td>\n",
              "      <td>21263.000000</td>\n",
              "      <td>21263.0</td>\n",
              "      <td>21263.000000</td>\n",
              "      <td>21263.000000</td>\n",
              "      <td>21263.000000</td>\n",
              "      <td>21263.000000</td>\n",
              "      <td>21263.000000</td>\n",
              "      <td>21263.000000</td>\n",
              "      <td>21263.0</td>\n",
              "      <td>21263.000000</td>\n",
              "      <td>21263.000000</td>\n",
              "      <td>21263.000000</td>\n",
              "      <td>21263.000000</td>\n",
              "      <td>21263.000000</td>\n",
              "      <td>21263.000000</td>\n",
              "      <td>21263.000000</td>\n",
              "      <td>21263.000000</td>\n",
              "      <td>21263.000000</td>\n",
              "      <td>21263.000000</td>\n",
              "      <td>21263.000000</td>\n",
              "      <td>21263.000000</td>\n",
              "      <td>21263.000000</td>\n",
              "      <td>21263.000000</td>\n",
              "      <td>21263.000000</td>\n",
              "      <td>21263.000000</td>\n",
              "      <td>21263.000000</td>\n",
              "      <td>21263.000000</td>\n",
              "      <td>21263.000000</td>\n",
              "      <td>21263.000000</td>\n",
              "      <td>21263.000000</td>\n",
              "      <td>21263.000000</td>\n",
              "      <td>21263.0</td>\n",
              "      <td>21263.0</td>\n",
              "      <td>21263.0</td>\n",
              "    </tr>\n",
              "    <tr>\n",
              "      <th>mean</th>\n",
              "      <td>4.115224</td>\n",
              "      <td>87.557631</td>\n",
              "      <td>72.988310</td>\n",
              "      <td>71.290627</td>\n",
              "      <td>58.539916</td>\n",
              "      <td>1.165608</td>\n",
              "      <td>1.063884</td>\n",
              "      <td>115.601251</td>\n",
              "      <td>33.225218</td>\n",
              "      <td>44.391893</td>\n",
              "      <td>41.448045</td>\n",
              "      <td>769.614748</td>\n",
              "      <td>870.442317</td>\n",
              "      <td>737.474751</td>\n",
              "      <td>832.769649</td>\n",
              "      <td>1.299172</td>\n",
              "      <td>0.926726</td>\n",
              "      <td>572.222612</td>\n",
              "      <td>483.517264</td>\n",
              "      <td>215.631279</td>\n",
              "      <td>224.050033</td>\n",
              "      <td>157.983101</td>\n",
              "      <td>134.720039</td>\n",
              "      <td>144.448738</td>\n",
              "      <td>120.989330</td>\n",
              "      <td>1.267756</td>\n",
              "      <td>1.131138</td>\n",
              "      <td>139.325025</td>\n",
              "      <td>51.369885</td>\n",
              "      <td>51.601267</td>\n",
              "      <td>52.340465</td>\n",
              "      <td>6111.465214</td>\n",
              "      <td>5267.188547</td>\n",
              "      <td>3460.692235</td>\n",
              "      <td>3117.241110</td>\n",
              "      <td>1.072425</td>\n",
              "      <td>0.856037</td>\n",
              "      <td>8665.438818</td>\n",
              "      <td>2902.736814</td>\n",
              "      <td>3416.910784</td>\n",
              "      <td>...</td>\n",
              "      <td>0.007834</td>\n",
              "      <td>0.009152</td>\n",
              "      <td>0.049468</td>\n",
              "      <td>0.120994</td>\n",
              "      <td>0.101269</td>\n",
              "      <td>0.040491</td>\n",
              "      <td>0.004744</td>\n",
              "      <td>0.0</td>\n",
              "      <td>0.004129</td>\n",
              "      <td>0.568440</td>\n",
              "      <td>0.264953</td>\n",
              "      <td>0.030662</td>\n",
              "      <td>0.041494</td>\n",
              "      <td>0.039666</td>\n",
              "      <td>0.0</td>\n",
              "      <td>0.021992</td>\n",
              "      <td>0.017821</td>\n",
              "      <td>0.023959</td>\n",
              "      <td>0.002857</td>\n",
              "      <td>0.009536</td>\n",
              "      <td>0.008832</td>\n",
              "      <td>0.014217</td>\n",
              "      <td>0.008909</td>\n",
              "      <td>0.012716</td>\n",
              "      <td>0.026849</td>\n",
              "      <td>0.009168</td>\n",
              "      <td>0.036086</td>\n",
              "      <td>0.010424</td>\n",
              "      <td>0.038206</td>\n",
              "      <td>0.022512</td>\n",
              "      <td>0.061558</td>\n",
              "      <td>0.034108</td>\n",
              "      <td>0.020535</td>\n",
              "      <td>0.036663</td>\n",
              "      <td>0.047954</td>\n",
              "      <td>0.042461</td>\n",
              "      <td>0.201009</td>\n",
              "      <td>0.0</td>\n",
              "      <td>0.0</td>\n",
              "      <td>0.0</td>\n",
              "    </tr>\n",
              "    <tr>\n",
              "      <th>std</th>\n",
              "      <td>1.439295</td>\n",
              "      <td>29.676497</td>\n",
              "      <td>33.490406</td>\n",
              "      <td>31.030272</td>\n",
              "      <td>36.651067</td>\n",
              "      <td>0.364930</td>\n",
              "      <td>0.401423</td>\n",
              "      <td>54.626887</td>\n",
              "      <td>26.967752</td>\n",
              "      <td>20.035430</td>\n",
              "      <td>19.983544</td>\n",
              "      <td>87.488694</td>\n",
              "      <td>143.278200</td>\n",
              "      <td>78.327275</td>\n",
              "      <td>119.772520</td>\n",
              "      <td>0.381935</td>\n",
              "      <td>0.334018</td>\n",
              "      <td>309.614442</td>\n",
              "      <td>224.042874</td>\n",
              "      <td>109.966774</td>\n",
              "      <td>127.927104</td>\n",
              "      <td>20.147288</td>\n",
              "      <td>28.801567</td>\n",
              "      <td>22.090958</td>\n",
              "      <td>35.837843</td>\n",
              "      <td>0.375411</td>\n",
              "      <td>0.407159</td>\n",
              "      <td>67.272228</td>\n",
              "      <td>35.019356</td>\n",
              "      <td>22.898396</td>\n",
              "      <td>25.294524</td>\n",
              "      <td>2846.785185</td>\n",
              "      <td>3221.314506</td>\n",
              "      <td>3703.256370</td>\n",
              "      <td>3975.122587</td>\n",
              "      <td>0.342356</td>\n",
              "      <td>0.319761</td>\n",
              "      <td>4097.126831</td>\n",
              "      <td>2398.471020</td>\n",
              "      <td>1673.624915</td>\n",
              "      <td>...</td>\n",
              "      <td>0.167831</td>\n",
              "      <td>0.688729</td>\n",
              "      <td>0.521820</td>\n",
              "      <td>1.886951</td>\n",
              "      <td>1.839020</td>\n",
              "      <td>0.718043</td>\n",
              "      <td>0.088480</td>\n",
              "      <td>0.0</td>\n",
              "      <td>0.077676</td>\n",
              "      <td>0.983288</td>\n",
              "      <td>2.320822</td>\n",
              "      <td>0.173147</td>\n",
              "      <td>1.282059</td>\n",
              "      <td>0.224657</td>\n",
              "      <td>0.0</td>\n",
              "      <td>0.183173</td>\n",
              "      <td>0.151433</td>\n",
              "      <td>0.155860</td>\n",
              "      <td>0.064737</td>\n",
              "      <td>0.104153</td>\n",
              "      <td>0.098728</td>\n",
              "      <td>0.131417</td>\n",
              "      <td>0.130455</td>\n",
              "      <td>0.214806</td>\n",
              "      <td>0.276861</td>\n",
              "      <td>0.208969</td>\n",
              "      <td>0.851380</td>\n",
              "      <td>0.164628</td>\n",
              "      <td>1.177476</td>\n",
              "      <td>0.282265</td>\n",
              "      <td>0.864859</td>\n",
              "      <td>0.307888</td>\n",
              "      <td>0.717975</td>\n",
              "      <td>0.205846</td>\n",
              "      <td>0.272298</td>\n",
              "      <td>0.274365</td>\n",
              "      <td>0.655927</td>\n",
              "      <td>0.0</td>\n",
              "      <td>0.0</td>\n",
              "      <td>0.0</td>\n",
              "    </tr>\n",
              "    <tr>\n",
              "      <th>min</th>\n",
              "      <td>1.000000</td>\n",
              "      <td>6.941000</td>\n",
              "      <td>6.423452</td>\n",
              "      <td>5.320573</td>\n",
              "      <td>1.960849</td>\n",
              "      <td>0.000000</td>\n",
              "      <td>0.000000</td>\n",
              "      <td>0.000000</td>\n",
              "      <td>0.000000</td>\n",
              "      <td>0.000000</td>\n",
              "      <td>0.000000</td>\n",
              "      <td>375.500000</td>\n",
              "      <td>375.500000</td>\n",
              "      <td>375.500000</td>\n",
              "      <td>375.500000</td>\n",
              "      <td>0.000000</td>\n",
              "      <td>0.000000</td>\n",
              "      <td>0.000000</td>\n",
              "      <td>0.000000</td>\n",
              "      <td>0.000000</td>\n",
              "      <td>0.000000</td>\n",
              "      <td>48.000000</td>\n",
              "      <td>48.000000</td>\n",
              "      <td>48.000000</td>\n",
              "      <td>48.000000</td>\n",
              "      <td>0.000000</td>\n",
              "      <td>0.000000</td>\n",
              "      <td>0.000000</td>\n",
              "      <td>0.000000</td>\n",
              "      <td>0.000000</td>\n",
              "      <td>0.000000</td>\n",
              "      <td>1.429000</td>\n",
              "      <td>1.429000</td>\n",
              "      <td>1.429000</td>\n",
              "      <td>0.686245</td>\n",
              "      <td>0.000000</td>\n",
              "      <td>0.000000</td>\n",
              "      <td>0.000000</td>\n",
              "      <td>0.000000</td>\n",
              "      <td>0.000000</td>\n",
              "      <td>...</td>\n",
              "      <td>0.000000</td>\n",
              "      <td>0.000000</td>\n",
              "      <td>0.000000</td>\n",
              "      <td>0.000000</td>\n",
              "      <td>0.000000</td>\n",
              "      <td>0.000000</td>\n",
              "      <td>0.000000</td>\n",
              "      <td>0.0</td>\n",
              "      <td>0.000000</td>\n",
              "      <td>0.000000</td>\n",
              "      <td>0.000000</td>\n",
              "      <td>0.000000</td>\n",
              "      <td>0.000000</td>\n",
              "      <td>0.000000</td>\n",
              "      <td>0.0</td>\n",
              "      <td>0.000000</td>\n",
              "      <td>0.000000</td>\n",
              "      <td>0.000000</td>\n",
              "      <td>0.000000</td>\n",
              "      <td>0.000000</td>\n",
              "      <td>0.000000</td>\n",
              "      <td>0.000000</td>\n",
              "      <td>0.000000</td>\n",
              "      <td>0.000000</td>\n",
              "      <td>0.000000</td>\n",
              "      <td>0.000000</td>\n",
              "      <td>0.000000</td>\n",
              "      <td>0.000000</td>\n",
              "      <td>0.000000</td>\n",
              "      <td>0.000000</td>\n",
              "      <td>0.000000</td>\n",
              "      <td>0.000000</td>\n",
              "      <td>0.000000</td>\n",
              "      <td>0.000000</td>\n",
              "      <td>0.000000</td>\n",
              "      <td>0.000000</td>\n",
              "      <td>0.000000</td>\n",
              "      <td>0.0</td>\n",
              "      <td>0.0</td>\n",
              "      <td>0.0</td>\n",
              "    </tr>\n",
              "    <tr>\n",
              "      <th>25%</th>\n",
              "      <td>3.000000</td>\n",
              "      <td>72.458076</td>\n",
              "      <td>52.143839</td>\n",
              "      <td>58.041225</td>\n",
              "      <td>35.248990</td>\n",
              "      <td>0.966676</td>\n",
              "      <td>0.775363</td>\n",
              "      <td>78.512902</td>\n",
              "      <td>16.824174</td>\n",
              "      <td>32.890369</td>\n",
              "      <td>28.539377</td>\n",
              "      <td>723.740000</td>\n",
              "      <td>738.946339</td>\n",
              "      <td>692.541331</td>\n",
              "      <td>720.108284</td>\n",
              "      <td>1.085871</td>\n",
              "      <td>0.753757</td>\n",
              "      <td>262.400000</td>\n",
              "      <td>291.088889</td>\n",
              "      <td>114.135763</td>\n",
              "      <td>92.994286</td>\n",
              "      <td>149.333333</td>\n",
              "      <td>112.127359</td>\n",
              "      <td>133.542493</td>\n",
              "      <td>89.210097</td>\n",
              "      <td>1.066389</td>\n",
              "      <td>0.852181</td>\n",
              "      <td>80.000000</td>\n",
              "      <td>28.598137</td>\n",
              "      <td>35.112518</td>\n",
              "      <td>32.016958</td>\n",
              "      <td>4513.500000</td>\n",
              "      <td>2999.158291</td>\n",
              "      <td>883.117278</td>\n",
              "      <td>66.746836</td>\n",
              "      <td>0.913959</td>\n",
              "      <td>0.688693</td>\n",
              "      <td>6648.000000</td>\n",
              "      <td>1656.847429</td>\n",
              "      <td>2819.497063</td>\n",
              "      <td>...</td>\n",
              "      <td>0.000000</td>\n",
              "      <td>0.000000</td>\n",
              "      <td>0.000000</td>\n",
              "      <td>0.000000</td>\n",
              "      <td>0.000000</td>\n",
              "      <td>0.000000</td>\n",
              "      <td>0.000000</td>\n",
              "      <td>0.0</td>\n",
              "      <td>0.000000</td>\n",
              "      <td>0.000000</td>\n",
              "      <td>0.000000</td>\n",
              "      <td>0.000000</td>\n",
              "      <td>0.000000</td>\n",
              "      <td>0.000000</td>\n",
              "      <td>0.0</td>\n",
              "      <td>0.000000</td>\n",
              "      <td>0.000000</td>\n",
              "      <td>0.000000</td>\n",
              "      <td>0.000000</td>\n",
              "      <td>0.000000</td>\n",
              "      <td>0.000000</td>\n",
              "      <td>0.000000</td>\n",
              "      <td>0.000000</td>\n",
              "      <td>0.000000</td>\n",
              "      <td>0.000000</td>\n",
              "      <td>0.000000</td>\n",
              "      <td>0.000000</td>\n",
              "      <td>0.000000</td>\n",
              "      <td>0.000000</td>\n",
              "      <td>0.000000</td>\n",
              "      <td>0.000000</td>\n",
              "      <td>0.000000</td>\n",
              "      <td>0.000000</td>\n",
              "      <td>0.000000</td>\n",
              "      <td>0.000000</td>\n",
              "      <td>0.000000</td>\n",
              "      <td>0.000000</td>\n",
              "      <td>0.0</td>\n",
              "      <td>0.0</td>\n",
              "      <td>0.0</td>\n",
              "    </tr>\n",
              "    <tr>\n",
              "      <th>50%</th>\n",
              "      <td>4.000000</td>\n",
              "      <td>84.922750</td>\n",
              "      <td>60.696571</td>\n",
              "      <td>66.361592</td>\n",
              "      <td>39.918385</td>\n",
              "      <td>1.199541</td>\n",
              "      <td>1.146783</td>\n",
              "      <td>122.906070</td>\n",
              "      <td>26.636008</td>\n",
              "      <td>45.123500</td>\n",
              "      <td>44.285984</td>\n",
              "      <td>764.900000</td>\n",
              "      <td>889.966667</td>\n",
              "      <td>727.960610</td>\n",
              "      <td>856.202765</td>\n",
              "      <td>1.356236</td>\n",
              "      <td>0.916843</td>\n",
              "      <td>764.100000</td>\n",
              "      <td>510.440000</td>\n",
              "      <td>266.373871</td>\n",
              "      <td>258.449503</td>\n",
              "      <td>160.250000</td>\n",
              "      <td>125.970297</td>\n",
              "      <td>142.807563</td>\n",
              "      <td>113.181369</td>\n",
              "      <td>1.330735</td>\n",
              "      <td>1.242878</td>\n",
              "      <td>171.000000</td>\n",
              "      <td>43.000000</td>\n",
              "      <td>58.663106</td>\n",
              "      <td>59.932929</td>\n",
              "      <td>5329.085800</td>\n",
              "      <td>4303.421500</td>\n",
              "      <td>1339.974702</td>\n",
              "      <td>1515.364631</td>\n",
              "      <td>1.090610</td>\n",
              "      <td>0.882747</td>\n",
              "      <td>8958.571000</td>\n",
              "      <td>2082.956581</td>\n",
              "      <td>3301.890502</td>\n",
              "      <td>...</td>\n",
              "      <td>0.000000</td>\n",
              "      <td>0.000000</td>\n",
              "      <td>0.000000</td>\n",
              "      <td>0.000000</td>\n",
              "      <td>0.000000</td>\n",
              "      <td>0.000000</td>\n",
              "      <td>0.000000</td>\n",
              "      <td>0.0</td>\n",
              "      <td>0.000000</td>\n",
              "      <td>0.000000</td>\n",
              "      <td>0.000000</td>\n",
              "      <td>0.000000</td>\n",
              "      <td>0.000000</td>\n",
              "      <td>0.000000</td>\n",
              "      <td>0.0</td>\n",
              "      <td>0.000000</td>\n",
              "      <td>0.000000</td>\n",
              "      <td>0.000000</td>\n",
              "      <td>0.000000</td>\n",
              "      <td>0.000000</td>\n",
              "      <td>0.000000</td>\n",
              "      <td>0.000000</td>\n",
              "      <td>0.000000</td>\n",
              "      <td>0.000000</td>\n",
              "      <td>0.000000</td>\n",
              "      <td>0.000000</td>\n",
              "      <td>0.000000</td>\n",
              "      <td>0.000000</td>\n",
              "      <td>0.000000</td>\n",
              "      <td>0.000000</td>\n",
              "      <td>0.000000</td>\n",
              "      <td>0.000000</td>\n",
              "      <td>0.000000</td>\n",
              "      <td>0.000000</td>\n",
              "      <td>0.000000</td>\n",
              "      <td>0.000000</td>\n",
              "      <td>0.000000</td>\n",
              "      <td>0.0</td>\n",
              "      <td>0.0</td>\n",
              "      <td>0.0</td>\n",
              "    </tr>\n",
              "    <tr>\n",
              "      <th>75%</th>\n",
              "      <td>5.000000</td>\n",
              "      <td>100.404410</td>\n",
              "      <td>86.103540</td>\n",
              "      <td>78.116681</td>\n",
              "      <td>73.113234</td>\n",
              "      <td>1.444537</td>\n",
              "      <td>1.359418</td>\n",
              "      <td>154.119320</td>\n",
              "      <td>38.356908</td>\n",
              "      <td>59.322812</td>\n",
              "      <td>53.629284</td>\n",
              "      <td>796.320000</td>\n",
              "      <td>1004.117384</td>\n",
              "      <td>765.715174</td>\n",
              "      <td>937.575826</td>\n",
              "      <td>1.551120</td>\n",
              "      <td>1.061750</td>\n",
              "      <td>810.600000</td>\n",
              "      <td>690.703310</td>\n",
              "      <td>297.724924</td>\n",
              "      <td>342.656991</td>\n",
              "      <td>169.857143</td>\n",
              "      <td>158.265231</td>\n",
              "      <td>155.938199</td>\n",
              "      <td>150.988640</td>\n",
              "      <td>1.512348</td>\n",
              "      <td>1.425684</td>\n",
              "      <td>205.000000</td>\n",
              "      <td>60.224491</td>\n",
              "      <td>69.424491</td>\n",
              "      <td>73.777278</td>\n",
              "      <td>6728.000000</td>\n",
              "      <td>6416.333333</td>\n",
              "      <td>5794.965188</td>\n",
              "      <td>5766.015191</td>\n",
              "      <td>1.323930</td>\n",
              "      <td>1.080939</td>\n",
              "      <td>9778.571000</td>\n",
              "      <td>3409.026316</td>\n",
              "      <td>4004.273231</td>\n",
              "      <td>...</td>\n",
              "      <td>0.000000</td>\n",
              "      <td>0.000000</td>\n",
              "      <td>0.000000</td>\n",
              "      <td>0.000000</td>\n",
              "      <td>0.000000</td>\n",
              "      <td>0.000000</td>\n",
              "      <td>0.000000</td>\n",
              "      <td>0.0</td>\n",
              "      <td>0.000000</td>\n",
              "      <td>1.350000</td>\n",
              "      <td>0.000000</td>\n",
              "      <td>0.000000</td>\n",
              "      <td>0.000000</td>\n",
              "      <td>0.000000</td>\n",
              "      <td>0.0</td>\n",
              "      <td>0.000000</td>\n",
              "      <td>0.000000</td>\n",
              "      <td>0.000000</td>\n",
              "      <td>0.000000</td>\n",
              "      <td>0.000000</td>\n",
              "      <td>0.000000</td>\n",
              "      <td>0.000000</td>\n",
              "      <td>0.000000</td>\n",
              "      <td>0.000000</td>\n",
              "      <td>0.000000</td>\n",
              "      <td>0.000000</td>\n",
              "      <td>0.000000</td>\n",
              "      <td>0.000000</td>\n",
              "      <td>0.000000</td>\n",
              "      <td>0.000000</td>\n",
              "      <td>0.000000</td>\n",
              "      <td>0.000000</td>\n",
              "      <td>0.000000</td>\n",
              "      <td>0.000000</td>\n",
              "      <td>0.000000</td>\n",
              "      <td>0.000000</td>\n",
              "      <td>0.000000</td>\n",
              "      <td>0.0</td>\n",
              "      <td>0.0</td>\n",
              "      <td>0.0</td>\n",
              "    </tr>\n",
              "    <tr>\n",
              "      <th>max</th>\n",
              "      <td>9.000000</td>\n",
              "      <td>208.980400</td>\n",
              "      <td>208.980400</td>\n",
              "      <td>208.980400</td>\n",
              "      <td>208.980400</td>\n",
              "      <td>1.983797</td>\n",
              "      <td>1.958203</td>\n",
              "      <td>207.972460</td>\n",
              "      <td>205.589910</td>\n",
              "      <td>101.019700</td>\n",
              "      <td>101.019700</td>\n",
              "      <td>1313.100000</td>\n",
              "      <td>1348.028986</td>\n",
              "      <td>1313.100000</td>\n",
              "      <td>1327.593381</td>\n",
              "      <td>2.157777</td>\n",
              "      <td>2.038560</td>\n",
              "      <td>1304.500000</td>\n",
              "      <td>1251.855072</td>\n",
              "      <td>499.671949</td>\n",
              "      <td>479.162305</td>\n",
              "      <td>298.000000</td>\n",
              "      <td>298.000000</td>\n",
              "      <td>298.000000</td>\n",
              "      <td>298.000000</td>\n",
              "      <td>2.141961</td>\n",
              "      <td>1.903748</td>\n",
              "      <td>256.000000</td>\n",
              "      <td>240.164344</td>\n",
              "      <td>115.500000</td>\n",
              "      <td>97.140711</td>\n",
              "      <td>22590.000000</td>\n",
              "      <td>22590.000000</td>\n",
              "      <td>22590.000000</td>\n",
              "      <td>22590.000000</td>\n",
              "      <td>1.954297</td>\n",
              "      <td>1.703420</td>\n",
              "      <td>22588.571000</td>\n",
              "      <td>22434.160000</td>\n",
              "      <td>10724.374500</td>\n",
              "      <td>...</td>\n",
              "      <td>7.000000</td>\n",
              "      <td>99.995000</td>\n",
              "      <td>31.500000</td>\n",
              "      <td>99.200000</td>\n",
              "      <td>83.500000</td>\n",
              "      <td>66.700000</td>\n",
              "      <td>4.000000</td>\n",
              "      <td>0.0</td>\n",
              "      <td>3.000000</td>\n",
              "      <td>24.000000</td>\n",
              "      <td>98.000000</td>\n",
              "      <td>4.998000</td>\n",
              "      <td>185.000000</td>\n",
              "      <td>6.000000</td>\n",
              "      <td>0.0</td>\n",
              "      <td>12.000000</td>\n",
              "      <td>6.000000</td>\n",
              "      <td>4.000000</td>\n",
              "      <td>5.000000</td>\n",
              "      <td>5.000000</td>\n",
              "      <td>5.000000</td>\n",
              "      <td>5.000000</td>\n",
              "      <td>5.000000</td>\n",
              "      <td>16.000000</td>\n",
              "      <td>7.000000</td>\n",
              "      <td>25.000000</td>\n",
              "      <td>55.000000</td>\n",
              "      <td>14.000000</td>\n",
              "      <td>97.240000</td>\n",
              "      <td>10.000000</td>\n",
              "      <td>45.000000</td>\n",
              "      <td>5.800000</td>\n",
              "      <td>64.000000</td>\n",
              "      <td>8.000000</td>\n",
              "      <td>7.000000</td>\n",
              "      <td>19.000000</td>\n",
              "      <td>14.000000</td>\n",
              "      <td>0.0</td>\n",
              "      <td>0.0</td>\n",
              "      <td>0.0</td>\n",
              "    </tr>\n",
              "  </tbody>\n",
              "</table>\n",
              "<p>8 rows × 168 columns</p>\n",
              "</div>"
            ],
            "text/plain": [
              "       number_of_elements  mean_atomic_mass  ...       At       Rn\n",
              "count        21263.000000      21263.000000  ...  21263.0  21263.0\n",
              "mean             4.115224         87.557631  ...      0.0      0.0\n",
              "std              1.439295         29.676497  ...      0.0      0.0\n",
              "min              1.000000          6.941000  ...      0.0      0.0\n",
              "25%              3.000000         72.458076  ...      0.0      0.0\n",
              "50%              4.000000         84.922750  ...      0.0      0.0\n",
              "75%              5.000000        100.404410  ...      0.0      0.0\n",
              "max              9.000000        208.980400  ...      0.0      0.0\n",
              "\n",
              "[8 rows x 168 columns]"
            ]
          },
          "metadata": {
            "tags": []
          },
          "execution_count": 5
        }
      ]
    },
    {
      "cell_type": "code",
      "metadata": {
        "id": "5HxONFoo1W4z",
        "colab": {
          "base_uri": "https://localhost:8080/"
        },
        "outputId": "cc7e71df-0766-4e1d-b2d8-89fcde5b2f0f"
      },
      "source": [
        "print(df['material'].nunique())\n",
        "print('='*80)\n",
        "print(len(df))\n",
        "print('='*80)\n",
        "dcf = df.groupby(['material'],as_index=False).count()\n",
        "#top 20 materials\n",
        "print(dcf[['material', 'C']].nlargest(20,'C'))"
      ],
      "execution_count": null,
      "outputs": [
        {
          "output_type": "stream",
          "text": [
            "15542\n",
            "================================================================================\n",
            "21263\n",
            "================================================================================\n",
            "                material    C\n",
            "14964         Y1Ba2Cu3O7  110\n",
            "2338      Bi2Sr2Ca1Cu2O8   80\n",
            "7137   La1.85Sr0.15Cu1O4   51\n",
            "458                B2Mg1   46\n",
            "12904        Tl2Ba2Cu1O6   45\n",
            "2336       Bi2Sr2Ca1Cu2O   44\n",
            "14857          Y1Ba2Cu3O   44\n",
            "14991         Y1Ba2Cu4O8   40\n",
            "9957   Nd1.85Ce0.15Cu1O4   32\n",
            "7287     La1.8Sr0.2Cu1O4   29\n",
            "5631         Hg1Ba2Cu1O4   28\n",
            "10043        Nd1Ba2Cu3O7   28\n",
            "10874  Pr1.85Ce0.15Cu1O4   27\n",
            "4958         Gd1Ba2Cu3O7   25\n",
            "12177           Sr2Ru1O4   25\n",
            "7381     La1.9Sr0.1Cu1O4   24\n",
            "14945       Y1Ba2Cu3O6.9   23\n",
            "2625                  C1   22\n",
            "5580      Hg1Ba2Ca2Cu3O8   21\n",
            "9327              Nb1Se2   21\n"
          ],
          "name": "stdout"
        }
      ]
    },
    {
      "cell_type": "markdown",
      "metadata": {
        "id": "dNeAEjmwoZkV"
      },
      "source": [
        "From a quick summary of our data types and values. We observed that most of our data was made up of continouous attributes, excluding the material type. We saw that for material type specifically, there were 15,542 unique types of materials out of 21,263 total records which equated to 75% of the data being unique materials. We could have one-hot encoded this field, but it would have generated a various sparse set of over 15,000 attributes. As such, we removed the material attribute due to the large diverse independence of its attribute values."
      ]
    },
    {
      "cell_type": "markdown",
      "metadata": {
        "id": "XZoRn9HD1ENx"
      },
      "source": [
        "Statistically summarizing the data, we saw that the elements (ex. 'Ir', 'Pt', 'Au', etc.) all had standard deviations less than 1 and had roughly the same mean. The lack of variation for these attributes could have allowed us to use our **domain knowledge** to simply remove them, but we left them in to see if our feature reduction techiniques (PCA, LDA) could also pick up on that trend."
      ]
    },
    {
      "cell_type": "code",
      "metadata": {
        "id": "1z8Pih5dhOvP",
        "colab": {
          "base_uri": "https://localhost:8080/"
        },
        "outputId": "9b70bc74-3237-4e36-ea18-48c12c29966d"
      },
      "source": [
        "df.info(verbose=True, null_counts=True)"
      ],
      "execution_count": null,
      "outputs": [
        {
          "output_type": "stream",
          "text": [
            "<class 'pandas.core.frame.DataFrame'>\n",
            "RangeIndex: 21263 entries, 0 to 21262\n",
            "Data columns (total 169 columns):\n",
            " #   Column                           Non-Null Count  Dtype  \n",
            "---  ------                           --------------  -----  \n",
            " 0   number_of_elements               21263 non-null  int64  \n",
            " 1   mean_atomic_mass                 21263 non-null  float64\n",
            " 2   wtd_mean_atomic_mass             21263 non-null  float64\n",
            " 3   gmean_atomic_mass                21263 non-null  float64\n",
            " 4   wtd_gmean_atomic_mass            21263 non-null  float64\n",
            " 5   entropy_atomic_mass              21263 non-null  float64\n",
            " 6   wtd_entropy_atomic_mass          21263 non-null  float64\n",
            " 7   range_atomic_mass                21263 non-null  float64\n",
            " 8   wtd_range_atomic_mass            21263 non-null  float64\n",
            " 9   std_atomic_mass                  21263 non-null  float64\n",
            " 10  wtd_std_atomic_mass              21263 non-null  float64\n",
            " 11  mean_fie                         21263 non-null  float64\n",
            " 12  wtd_mean_fie                     21263 non-null  float64\n",
            " 13  gmean_fie                        21263 non-null  float64\n",
            " 14  wtd_gmean_fie                    21263 non-null  float64\n",
            " 15  entropy_fie                      21263 non-null  float64\n",
            " 16  wtd_entropy_fie                  21263 non-null  float64\n",
            " 17  range_fie                        21263 non-null  float64\n",
            " 18  wtd_range_fie                    21263 non-null  float64\n",
            " 19  std_fie                          21263 non-null  float64\n",
            " 20  wtd_std_fie                      21263 non-null  float64\n",
            " 21  mean_atomic_radius               21263 non-null  float64\n",
            " 22  wtd_mean_atomic_radius           21263 non-null  float64\n",
            " 23  gmean_atomic_radius              21263 non-null  float64\n",
            " 24  wtd_gmean_atomic_radius          21263 non-null  float64\n",
            " 25  entropy_atomic_radius            21263 non-null  float64\n",
            " 26  wtd_entropy_atomic_radius        21263 non-null  float64\n",
            " 27  range_atomic_radius              21263 non-null  int64  \n",
            " 28  wtd_range_atomic_radius          21263 non-null  float64\n",
            " 29  std_atomic_radius                21263 non-null  float64\n",
            " 30  wtd_std_atomic_radius            21263 non-null  float64\n",
            " 31  mean_Density                     21263 non-null  float64\n",
            " 32  wtd_mean_Density                 21263 non-null  float64\n",
            " 33  gmean_Density                    21263 non-null  float64\n",
            " 34  wtd_gmean_Density                21263 non-null  float64\n",
            " 35  entropy_Density                  21263 non-null  float64\n",
            " 36  wtd_entropy_Density              21263 non-null  float64\n",
            " 37  range_Density                    21263 non-null  float64\n",
            " 38  wtd_range_Density                21263 non-null  float64\n",
            " 39  std_Density                      21263 non-null  float64\n",
            " 40  wtd_std_Density                  21263 non-null  float64\n",
            " 41  mean_ElectronAffinity            21263 non-null  float64\n",
            " 42  wtd_mean_ElectronAffinity        21263 non-null  float64\n",
            " 43  gmean_ElectronAffinity           21263 non-null  float64\n",
            " 44  wtd_gmean_ElectronAffinity       21263 non-null  float64\n",
            " 45  entropy_ElectronAffinity         21263 non-null  float64\n",
            " 46  wtd_entropy_ElectronAffinity     21263 non-null  float64\n",
            " 47  range_ElectronAffinity           21263 non-null  float64\n",
            " 48  wtd_range_ElectronAffinity       21263 non-null  float64\n",
            " 49  std_ElectronAffinity             21263 non-null  float64\n",
            " 50  wtd_std_ElectronAffinity         21263 non-null  float64\n",
            " 51  mean_FusionHeat                  21263 non-null  float64\n",
            " 52  wtd_mean_FusionHeat              21263 non-null  float64\n",
            " 53  gmean_FusionHeat                 21263 non-null  float64\n",
            " 54  wtd_gmean_FusionHeat             21263 non-null  float64\n",
            " 55  entropy_FusionHeat               21263 non-null  float64\n",
            " 56  wtd_entropy_FusionHeat           21263 non-null  float64\n",
            " 57  range_FusionHeat                 21263 non-null  float64\n",
            " 58  wtd_range_FusionHeat             21263 non-null  float64\n",
            " 59  std_FusionHeat                   21263 non-null  float64\n",
            " 60  wtd_std_FusionHeat               21263 non-null  float64\n",
            " 61  mean_ThermalConductivity         21263 non-null  float64\n",
            " 62  wtd_mean_ThermalConductivity     21263 non-null  float64\n",
            " 63  gmean_ThermalConductivity        21263 non-null  float64\n",
            " 64  wtd_gmean_ThermalConductivity    21263 non-null  float64\n",
            " 65  entropy_ThermalConductivity      21263 non-null  float64\n",
            " 66  wtd_entropy_ThermalConductivity  21263 non-null  float64\n",
            " 67  range_ThermalConductivity        21263 non-null  float64\n",
            " 68  wtd_range_ThermalConductivity    21263 non-null  float64\n",
            " 69  std_ThermalConductivity          21263 non-null  float64\n",
            " 70  wtd_std_ThermalConductivity      21263 non-null  float64\n",
            " 71  mean_Valence                     21263 non-null  float64\n",
            " 72  wtd_mean_Valence                 21263 non-null  float64\n",
            " 73  gmean_Valence                    21263 non-null  float64\n",
            " 74  wtd_gmean_Valence                21263 non-null  float64\n",
            " 75  entropy_Valence                  21263 non-null  float64\n",
            " 76  wtd_entropy_Valence              21263 non-null  float64\n",
            " 77  range_Valence                    21263 non-null  int64  \n",
            " 78  wtd_range_Valence                21263 non-null  float64\n",
            " 79  std_Valence                      21263 non-null  float64\n",
            " 80  wtd_std_Valence                  21263 non-null  float64\n",
            " 81  critical_temp                    21263 non-null  float64\n",
            " 82  H                                21263 non-null  float64\n",
            " 83  He                               21263 non-null  int64  \n",
            " 84  Li                               21263 non-null  float64\n",
            " 85  Be                               21263 non-null  float64\n",
            " 86  B                                21263 non-null  float64\n",
            " 87  C                                21263 non-null  float64\n",
            " 88  N                                21263 non-null  float64\n",
            " 89  O                                21263 non-null  float64\n",
            " 90  F                                21263 non-null  float64\n",
            " 91  Ne                               21263 non-null  int64  \n",
            " 92  Na                               21263 non-null  float64\n",
            " 93  Mg                               21263 non-null  float64\n",
            " 94  Al                               21263 non-null  float64\n",
            " 95  Si                               21263 non-null  float64\n",
            " 96  P                                21263 non-null  float64\n",
            " 97  S                                21263 non-null  float64\n",
            " 98  Cl                               21263 non-null  float64\n",
            " 99  Ar                               21263 non-null  int64  \n",
            " 100 K                                21263 non-null  float64\n",
            " 101 Ca                               21263 non-null  float64\n",
            " 102 Sc                               21263 non-null  float64\n",
            " 103 Ti                               21263 non-null  float64\n",
            " 104 V                                21263 non-null  float64\n",
            " 105 Cr                               21263 non-null  float64\n",
            " 106 Mn                               21263 non-null  float64\n",
            " 107 Fe                               21263 non-null  float64\n",
            " 108 Co                               21263 non-null  float64\n",
            " 109 Ni                               21263 non-null  float64\n",
            " 110 Cu                               21263 non-null  float64\n",
            " 111 Zn                               21263 non-null  float64\n",
            " 112 Ga                               21263 non-null  float64\n",
            " 113 Ge                               21263 non-null  float64\n",
            " 114 As                               21263 non-null  float64\n",
            " 115 Se                               21263 non-null  float64\n",
            " 116 Br                               21263 non-null  float64\n",
            " 117 Kr                               21263 non-null  int64  \n",
            " 118 Rb                               21263 non-null  float64\n",
            " 119 Sr                               21263 non-null  float64\n",
            " 120 Y                                21263 non-null  float64\n",
            " 121 Zr                               21263 non-null  float64\n",
            " 122 Nb                               21263 non-null  float64\n",
            " 123 Mo                               21263 non-null  float64\n",
            " 124 Tc                               21263 non-null  float64\n",
            " 125 Ru                               21263 non-null  float64\n",
            " 126 Rh                               21263 non-null  float64\n",
            " 127 Pd                               21263 non-null  float64\n",
            " 128 Ag                               21263 non-null  float64\n",
            " 129 Cd                               21263 non-null  float64\n",
            " 130 In                               21263 non-null  float64\n",
            " 131 Sn                               21263 non-null  float64\n",
            " 132 Sb                               21263 non-null  float64\n",
            " 133 Te                               21263 non-null  float64\n",
            " 134 I                                21263 non-null  float64\n",
            " 135 Xe                               21263 non-null  int64  \n",
            " 136 Cs                               21263 non-null  float64\n",
            " 137 Ba                               21263 non-null  float64\n",
            " 138 La                               21263 non-null  float64\n",
            " 139 Ce                               21263 non-null  float64\n",
            " 140 Pr                               21263 non-null  float64\n",
            " 141 Nd                               21263 non-null  float64\n",
            " 142 Pm                               21263 non-null  int64  \n",
            " 143 Sm                               21263 non-null  float64\n",
            " 144 Eu                               21263 non-null  float64\n",
            " 145 Gd                               21263 non-null  float64\n",
            " 146 Tb                               21263 non-null  float64\n",
            " 147 Dy                               21263 non-null  float64\n",
            " 148 Ho                               21263 non-null  float64\n",
            " 149 Er                               21263 non-null  float64\n",
            " 150 Tm                               21263 non-null  float64\n",
            " 151 Yb                               21263 non-null  float64\n",
            " 152 Lu                               21263 non-null  float64\n",
            " 153 Hf                               21263 non-null  float64\n",
            " 154 Ta                               21263 non-null  float64\n",
            " 155 W                                21263 non-null  float64\n",
            " 156 Re                               21263 non-null  float64\n",
            " 157 Os                               21263 non-null  float64\n",
            " 158 Ir                               21263 non-null  float64\n",
            " 159 Pt                               21263 non-null  float64\n",
            " 160 Au                               21263 non-null  float64\n",
            " 161 Hg                               21263 non-null  float64\n",
            " 162 Tl                               21263 non-null  float64\n",
            " 163 Pb                               21263 non-null  float64\n",
            " 164 Bi                               21263 non-null  float64\n",
            " 165 Po                               21263 non-null  int64  \n",
            " 166 At                               21263 non-null  int64  \n",
            " 167 Rn                               21263 non-null  int64  \n",
            " 168 material                         21263 non-null  object \n",
            "dtypes: float64(156), int64(12), object(1)\n",
            "memory usage: 27.4+ MB\n"
          ],
          "name": "stdout"
        }
      ]
    },
    {
      "cell_type": "markdown",
      "metadata": {
        "id": "9BW5HUWDo2fB"
      },
      "source": [
        "We next tested the validity of our response value *critical_temp* and its distribution. We saw that the distribution of our data was **right-skewed** where most of our *critical_temp* values were at or near 0 and then descended towards 50 before beginning to rise again. This skew definitely impacted our analysis, but it reflected analysis to-date in the field of superconductors: materials only become superconductors at *extremely* cold temperatures.  \n",
        "  \n",
        "On a good note, no critical_temp was below 0 which meant that our data was almost definitely in Kelvin. This was important to the analysis since on the Kelvin scale, a temperature of 2 is actually twice \"as hot\" as a temperature of 1. This is not true for Celsius or Fahrenheit. As such, we left our temperature \"as is\" (measured in degrees Kelvin) and just scaled our input attributes."
      ]
    },
    {
      "cell_type": "code",
      "metadata": {
        "id": "qRAVK_q6o4QN",
        "colab": {
          "base_uri": "https://localhost:8080/",
          "height": 523
        },
        "outputId": "74be2955-6dd7-41f7-d4e2-c35004bfcbd6"
      },
      "source": [
        "sns.displot(df, x=\"critical_temp\")"
      ],
      "execution_count": null,
      "outputs": [
        {
          "output_type": "execute_result",
          "data": {
            "text/plain": [
              "<seaborn.axisgrid.FacetGrid at 0x7fb84363ef10>"
            ]
          },
          "metadata": {
            "tags": []
          },
          "execution_count": 61
        },
        {
          "output_type": "display_data",
          "data": {
            "image/png": "[encoded data removed]",
            "text/plain": [
              "<Figure size 500x500 with 1 Axes>"
            ]
          },
          "metadata": {
            "tags": []
          }
        }
      ]
    },
    {
      "cell_type": "markdown",
      "metadata": {
        "id": "cF34ExIp2NgI"
      },
      "source": [
        "For a more complete exploration of our data, we could have, for instance, generated a Pandas Profiling report, but since our goal was to simply to use linear regression to determine the relationship between our various attributes and *critical_temp*, we omitted further EDA for now."
      ]
    },
    {
      "cell_type": "markdown",
      "metadata": {
        "id": "JcnUjGJ_xrXs"
      },
      "source": [
        "# **Feature Importance using PCA**"
      ]
    },
    {
      "cell_type": "markdown",
      "metadata": {
        "id": "7bs_jApOYxTJ"
      },
      "source": [
        "Considering our joined data set contained 160+ attributes, there was a high possibility of collinearity given that some of the attributes had similar values. We identified this during the EDA process as well. To trim down our regression variables, we ran PCA (Principal Component Analysis) to reduce the dimensionality of our dataset by using lower-order principle component weights as metrics of each individual attribute's significance compared to all the others.  \n",
        "  \n",
        "Note that the various attributes all had different scales so we normalized the data using a Standard Scaler to make them directly comparable."
      ]
    },
    {
      "cell_type": "code",
      "metadata": {
        "id": "LrcXvpMBxxLf",
        "colab": {
          "base_uri": "https://localhost:8080/"
        },
        "outputId": "e644eea3-674d-407a-e248-4aada3b6148e"
      },
      "source": [
        "#creating temp df that stores all explanatory variables\n",
        "expl = df.drop(['critical_temp', 'material'], axis=1)\n",
        "# Standardize the feature\n",
        "df_scaled= StandardScaler().fit_transform(expl)\n",
        "n = 3\n",
        "pca = PCA(n_components=n)\n",
        "df_num_pca = pca.fit(df_scaled).transform(df_scaled)\n",
        "\n",
        "pca.explained_variance_ratio_\n",
        "Sum = sum(pca.explained_variance_ratio_) \n",
        "print(pca.explained_variance_ratio_)\n",
        "print(Sum*100)\n",
        "print('first', n , 'components explains', round(Sum*100), 'percentage of the variation')"
      ],
      "execution_count": null,
      "outputs": [
        {
          "output_type": "stream",
          "text": [
            "[0.20844765 0.0580478  0.05366213]\n",
            "32.01575780954504\n",
            "first 3 components explains 32 percentage of the variation\n"
          ],
          "name": "stdout"
        }
      ]
    },
    {
      "cell_type": "markdown",
      "metadata": {
        "id": "89PLdWUDG6ny"
      },
      "source": [
        "It was clear from the chart below that the first 10 or so of the attributes resulted in over 50% of the variation. It was also clear that a plateau was reached around 90 attributes where additional attributes provided very little additional accuracy. In a later section, we have called out these \"top 10\" attributes."
      ]
    },
    {
      "cell_type": "code",
      "metadata": {
        "id": "xQaWA3yKHpYB",
        "colab": {
          "base_uri": "https://localhost:8080/",
          "height": 279
        },
        "outputId": "1f6f5ef4-7500-46d8-d1ae-507d09927a03"
      },
      "source": [
        "pca_plot = PCA().fit(df_scaled)\n",
        "plt.plot(np.cumsum(pca_plot.explained_variance_ratio_))\n",
        "plt.xlabel('number of components')\n",
        "plt.ylabel('cumulative explained variance');"
      ],
      "execution_count": null,
      "outputs": [
        {
          "output_type": "display_data",
          "data": {
            "image/png": "[encoded data removed]",
            "text/plain": [
              "<Figure size 432x288 with 1 Axes>"
            ]
          },
          "metadata": {
            "tags": [],
            "needs_background": "light"
          }
        }
      ]
    },
    {
      "cell_type": "code",
      "metadata": {
        "id": "8rijFznyxybQ",
        "colab": {
          "base_uri": "https://localhost:8080/"
        },
        "outputId": "fc1e1235-8ac6-429b-c45b-dae9bac306a1"
      },
      "source": [
        "df_col_names = list(expl.columns)\n",
        "\n",
        "def get_feature_names_from_weights(weights, names):\n",
        "    tmp_array = []\n",
        "    for comp in weights:\n",
        "        tmp_string = ''\n",
        "        for fidx,f in enumerate(names):\n",
        "            if fidx>0 and comp[fidx]>=0:\n",
        "                tmp_string+='+'\n",
        "            tmp_string += '%.2f*%s ' % (comp[fidx],f[:-5])\n",
        "        tmp_array.append(tmp_string)\n",
        "    return tmp_array\n",
        "\n",
        "# assign weights with features\n",
        "pca_weight_strings = get_feature_names_from_weights(pca.components_, df_col_names)\n",
        "\n",
        "# extracting only the 1st component\n",
        "pca_weight_comp1 = pca_weight_strings[0].split(' ')\n",
        "print('PCA Component 1: '+str(pca_weight_comp1))"
      ],
      "execution_count": null,
      "outputs": [
        {
          "output_type": "stream",
          "text": [
            "PCA Component 1: ['-0.15*number_of_ele', '+0.05*mean_atomic', '+0.10*wtd_mean_atomic', '+0.08*gmean_atomic', '+0.12*wtd_gmean_atomic', '-0.14*entropy_atomic', '-0.15*wtd_entropy_atomic', '-0.12*range_atomic', '+0.09*wtd_range_atomic', '-0.10*std_atomic', '-0.11*wtd_std_atomic', '-0.05*mea', '-0.13*wtd_mea', '-0.02*gmea', '-0.12*wtd_gmea', '-0.15*entrop', '-0.11*wtd_entrop', '-0.16*rang', '-0.08*wtd_rang', '-0.15*st', '-0.16*wtd_st', '+0.02*mean_atomic_r', '+0.12*wtd_mean_atomic_r', '+0.07*gmean_atomic_r', '+0.13*wtd_gmean_atomic_r', '-0.15*entropy_atomic_r', '-0.16*wtd_entropy_atomic_r', '-0.16*range_atomic_r', '+0.10*wtd_range_atomic_r', '-0.15*std_atomic_r', '-0.16*wtd_std_atomic_r', '+0.11*mean_De', '+0.13*wtd_mean_De', '+0.15*gmean_De', '+0.15*wtd_gmean_De', '-0.12*entropy_De', '-0.11*wtd_entropy_De', '-0.07*range_De', '+0.09*wtd_range_De', '-0.04*std_De', '-0.07*wtd_std_De', '+0.01*mean_ElectronAff', '-0.06*wtd_mean_ElectronAff', '+0.06*gmean_ElectronAff', '-0.01*wtd_gmean_ElectronAff', '-0.14*entropy_ElectronAff', '-0.09*wtd_entropy_ElectronAff', '-0.10*range_ElectronAff', '-0.07*wtd_range_ElectronAff', '-0.09*std_ElectronAff', '-0.10*wtd_std_ElectronAff', '+0.09*mean_Fusio', '+0.10*wtd_mean_Fusio', '+0.11*gmean_Fusio', '+0.11*wtd_gmean_Fusio', '-0.13*entropy_Fusio', '-0.14*wtd_entropy_Fusio', '+0.01*range_Fusio', '+0.08*wtd_range_Fusio', '+0.02*std_Fusio', '+0.01*wtd_std_Fusio', '-0.05*mean_ThermalConduct', '-0.03*wtd_mean_ThermalConduct', '+0.11*gmean_ThermalConduct', '+0.11*wtd_gmean_ThermalConduct', '-0.03*entropy_ThermalConduct', '+0.00*wtd_entropy_ThermalConduct', '-0.14*range_ThermalConduct', '-0.06*wtd_range_ThermalConduct', '-0.13*std_ThermalConduct', '-0.14*wtd_std_ThermalConduct', '+0.14*mean_Va', '+0.14*wtd_mean_Va', '+0.14*gmean_Va', '+0.14*wtd_gmean_Va', '-0.16*entropy_Va', '-0.15*wtd_entropy_Va', '-0.02*range_Va', '+0.11*wtd_range_Va', '-0.01*std_Va', '+0.01*wtd_std_Va', '-0.00*', '+-0.00*', '+0.00*', '+0.01*', '+0.01*', '+0.01*', '+0.00*', '-0.12*', '-0.02*', '+-0.00*', '+0.00*', '+0.01*', '+0.01*', '+0.01*', '+0.01*', '+0.01*', '-0.01*', '+-0.00*', '+0.00*', '-0.04*', '+0.01*', '+0.01*', '+0.02*', '+0.00*', '+0.00*', '+0.01*', '+0.01*', '+0.01*', '-0.09*', '+0.00*', '+0.02*', '+0.01*', '+0.00*', '+0.01*', '-0.00*', '+-0.00*', '+0.01*', '-0.06*', '-0.04*', '+0.02*', '+0.02*', '+0.01*', '+0.01*', '+0.01*', '+0.01*', '+0.01*', '-0.00*', '+0.00*', '+0.02*', '+0.01*', '+0.01*', '+0.01*', '-0.00*', '+-0.00*', '+0.00*', '-0.08*', '+0.00*', '+0.00*', '-0.00*', '-0.02*', '+-0.00*', '-0.01*', '-0.01*', '-0.02*', '+0.00*', '-0.01*', '-0.00*', '-0.01*', '-0.00*', '-0.00*', '+0.01*', '+0.01*', '+0.01*', '+0.01*', '+0.01*', '+0.02*', '+0.01*', '+0.01*', '+0.01*', '-0.02*', '-0.02*', '-0.00*', '-0.03*', '+-0.00*', '+-0.00*', '+-0.00*', '']\n"
          ],
          "name": "stdout"
        }
      ]
    },
    {
      "cell_type": "markdown",
      "metadata": {
        "id": "h63iDXurRtAk"
      },
      "source": [
        "Once we got the first component of PCA isolated into its own list, we cleaned up each element by removing it's sign-value (+, -) and then split it into its weight and name. Once complete, we converted the output into a dataframe to sort for further review and analysis."
      ]
    },
    {
      "cell_type": "code",
      "metadata": {
        "id": "HZa8QdiRRUsW"
      },
      "source": [
        "def conv_pca_df(self):\n",
        "  cleaned_pca = []\n",
        "  # removing the signs for the weights and using only the weight itself as a measurement of attribute significance\n",
        "  for i in pca_weight_comp1:\n",
        "      temp = str(i)\n",
        "      if '-' in i:\n",
        "          x = temp.replace('-', '').split('*')\n",
        "          cleaned_pca.append(x)\n",
        "      elif '+' in i:\n",
        "          x = temp.replace('+', '').split('*')\n",
        "          cleaned_pca.append(x)\n",
        "  # convert nested array to df\n",
        "  z = pd.DataFrame(cleaned_pca, columns=('Weight', 'Attribute'))\n",
        "  z['Weight'] = pd.to_numeric(z['Weight'])\n",
        "  return z"
      ],
      "execution_count": null,
      "outputs": []
    },
    {
      "cell_type": "markdown",
      "metadata": {
        "id": "yQaSvjO-Z7_J"
      },
      "source": [
        "We observed that a good chunk of our principle component attributes had weights < 0.05. To reduce the dataset, we only included attributes with weights greater than 0.05. This trimmed down our component values by nearly 60%."
      ]
    },
    {
      "cell_type": "code",
      "metadata": {
        "id": "8CVGVEPTzYjp",
        "colab": {
          "base_uri": "https://localhost:8080/",
          "height": 417
        },
        "outputId": "50831585-7e89-4041-8438-e579a071fb82"
      },
      "source": [
        "conv_pca_df(pca_weight_comp1)"
      ],
      "execution_count": null,
      "outputs": [
        {
          "output_type": "execute_result",
          "data": {
            "text/html": [
              "<div>\n",
              "<style scoped>\n",
              "    .dataframe tbody tr th:only-of-type {\n",
              "        vertical-align: middle;\n",
              "    }\n",
              "\n",
              "    .dataframe tbody tr th {\n",
              "        vertical-align: top;\n",
              "    }\n",
              "\n",
              "    .dataframe thead th {\n",
              "        text-align: right;\n",
              "    }\n",
              "</style>\n",
              "<table border=\"1\" class=\"dataframe\">\n",
              "  <thead>\n",
              "    <tr style=\"text-align: right;\">\n",
              "      <th></th>\n",
              "      <th>Weight</th>\n",
              "      <th>Attribute</th>\n",
              "    </tr>\n",
              "  </thead>\n",
              "  <tbody>\n",
              "    <tr>\n",
              "      <th>0</th>\n",
              "      <td>0.15</td>\n",
              "      <td>number_of_ele</td>\n",
              "    </tr>\n",
              "    <tr>\n",
              "      <th>1</th>\n",
              "      <td>0.05</td>\n",
              "      <td>mean_atomic</td>\n",
              "    </tr>\n",
              "    <tr>\n",
              "      <th>2</th>\n",
              "      <td>0.10</td>\n",
              "      <td>wtd_mean_atomic</td>\n",
              "    </tr>\n",
              "    <tr>\n",
              "      <th>3</th>\n",
              "      <td>0.08</td>\n",
              "      <td>gmean_atomic</td>\n",
              "    </tr>\n",
              "    <tr>\n",
              "      <th>4</th>\n",
              "      <td>0.12</td>\n",
              "      <td>wtd_gmean_atomic</td>\n",
              "    </tr>\n",
              "    <tr>\n",
              "      <th>...</th>\n",
              "      <td>...</td>\n",
              "      <td>...</td>\n",
              "    </tr>\n",
              "    <tr>\n",
              "      <th>162</th>\n",
              "      <td>0.00</td>\n",
              "      <td></td>\n",
              "    </tr>\n",
              "    <tr>\n",
              "      <th>163</th>\n",
              "      <td>0.03</td>\n",
              "      <td></td>\n",
              "    </tr>\n",
              "    <tr>\n",
              "      <th>164</th>\n",
              "      <td>0.00</td>\n",
              "      <td></td>\n",
              "    </tr>\n",
              "    <tr>\n",
              "      <th>165</th>\n",
              "      <td>0.00</td>\n",
              "      <td></td>\n",
              "    </tr>\n",
              "    <tr>\n",
              "      <th>166</th>\n",
              "      <td>0.00</td>\n",
              "      <td></td>\n",
              "    </tr>\n",
              "  </tbody>\n",
              "</table>\n",
              "<p>167 rows × 2 columns</p>\n",
              "</div>"
            ],
            "text/plain": [
              "     Weight         Attribute\n",
              "0      0.15     number_of_ele\n",
              "1      0.05       mean_atomic\n",
              "2      0.10   wtd_mean_atomic\n",
              "3      0.08      gmean_atomic\n",
              "4      0.12  wtd_gmean_atomic\n",
              "..      ...               ...\n",
              "162    0.00                  \n",
              "163    0.03                  \n",
              "164    0.00                  \n",
              "165    0.00                  \n",
              "166    0.00                  \n",
              "\n",
              "[167 rows x 2 columns]"
            ]
          },
          "metadata": {
            "tags": []
          },
          "execution_count": 24
        }
      ]
    },
    {
      "cell_type": "code",
      "metadata": {
        "id": "di9IO4aRQLl7",
        "colab": {
          "base_uri": "https://localhost:8080/"
        },
        "outputId": "4303f65a-61a5-495c-b222-53afc30fc0e0"
      },
      "source": [
        "pca_result = conv_pca_df(pca_weight_comp1)\n",
        "pca_result_reduced = pca_result[pca_result.Weight > .05]\n",
        "print('# of attributes in PCA (total): '+str(len(pca_weight_comp1)))\n",
        "print('='*80)\n",
        "print('# of attributes with weight > .05: '+str(len(pca_result_reduced)))\n",
        "print('='*80)\n",
        "print(pca_result_reduced)"
      ],
      "execution_count": null,
      "outputs": [
        {
          "output_type": "stream",
          "text": [
            "# of attributes in PCA (total): 168\n",
            "================================================================================\n",
            "# of attributes with weight > .05: 68\n",
            "================================================================================\n",
            "     Weight         Attribute\n",
            "0      0.15     number_of_ele\n",
            "2      0.10   wtd_mean_atomic\n",
            "3      0.08      gmean_atomic\n",
            "4      0.12  wtd_gmean_atomic\n",
            "5      0.14    entropy_atomic\n",
            "..      ...               ...\n",
            "78     0.11      wtd_range_Va\n",
            "88     0.12                  \n",
            "109    0.09                  \n",
            "118    0.06                  \n",
            "136    0.08                  \n",
            "\n",
            "[68 rows x 2 columns]\n"
          ],
          "name": "stdout"
        }
      ]
    },
    {
      "cell_type": "code",
      "metadata": {
        "id": "SxGVfwxPy2Uj",
        "colab": {
          "base_uri": "https://localhost:8080/"
        },
        "outputId": "92423d13-75fb-460d-938e-65016bf3e49d"
      },
      "source": [
        "intersection_cols = pca_result_reduced.columns & df.columns\n",
        "res = df1[intersection_cols]\n",
        "print(df1.columns)"
      ],
      "execution_count": null,
      "outputs": [
        {
          "output_type": "stream",
          "text": [
            "Index(['number_of_elements', 'mean_atomic_mass', 'wtd_mean_atomic_mass',\n",
            "       'gmean_atomic_mass', 'wtd_gmean_atomic_mass', 'entropy_atomic_mass',\n",
            "       'wtd_entropy_atomic_mass', 'range_atomic_mass', 'wtd_range_atomic_mass',\n",
            "       'std_atomic_mass', 'wtd_std_atomic_mass', 'mean_fie', 'wtd_mean_fie',\n",
            "       'gmean_fie', 'wtd_gmean_fie', 'entropy_fie', 'wtd_entropy_fie',\n",
            "       'range_fie', 'wtd_range_fie', 'std_fie', 'wtd_std_fie',\n",
            "       'mean_atomic_radius', 'wtd_mean_atomic_radius', 'gmean_atomic_radius',\n",
            "       'wtd_gmean_atomic_radius', 'entropy_atomic_radius',\n",
            "       'wtd_entropy_atomic_radius', 'range_atomic_radius',\n",
            "       'wtd_range_atomic_radius', 'std_atomic_radius', 'wtd_std_atomic_radius',\n",
            "       'mean_Density', 'wtd_mean_Density', 'gmean_Density',\n",
            "       'wtd_gmean_Density', 'entropy_Density', 'wtd_entropy_Density',\n",
            "       'range_Density', 'wtd_range_Density', 'std_Density', 'wtd_std_Density',\n",
            "       'mean_ElectronAffinity', 'wtd_mean_ElectronAffinity',\n",
            "       'gmean_ElectronAffinity', 'wtd_gmean_ElectronAffinity',\n",
            "       'entropy_ElectronAffinity', 'wtd_entropy_ElectronAffinity',\n",
            "       'range_ElectronAffinity', 'wtd_range_ElectronAffinity',\n",
            "       'std_ElectronAffinity', 'wtd_std_ElectronAffinity', 'mean_FusionHeat',\n",
            "       'wtd_mean_FusionHeat', 'gmean_FusionHeat', 'wtd_gmean_FusionHeat',\n",
            "       'entropy_FusionHeat', 'wtd_entropy_FusionHeat', 'range_FusionHeat',\n",
            "       'wtd_range_FusionHeat', 'std_FusionHeat', 'wtd_std_FusionHeat',\n",
            "       'mean_ThermalConductivity', 'wtd_mean_ThermalConductivity',\n",
            "       'gmean_ThermalConductivity', 'wtd_gmean_ThermalConductivity',\n",
            "       'entropy_ThermalConductivity', 'wtd_entropy_ThermalConductivity',\n",
            "       'range_ThermalConductivity', 'wtd_range_ThermalConductivity',\n",
            "       'std_ThermalConductivity', 'wtd_std_ThermalConductivity',\n",
            "       'mean_Valence', 'wtd_mean_Valence', 'gmean_Valence',\n",
            "       'wtd_gmean_Valence', 'entropy_Valence', 'wtd_entropy_Valence',\n",
            "       'range_Valence', 'wtd_range_Valence', 'std_Valence', 'wtd_std_Valence',\n",
            "       'critical_temp'],\n",
            "      dtype='object')\n"
          ],
          "name": "stdout"
        }
      ]
    },
    {
      "cell_type": "markdown",
      "metadata": {
        "id": "9P49FtKWIPP4"
      },
      "source": [
        "These attributes listed above were the attributes with weights greater than 0.05. We are sure that list of top attributes must be fascinating to a Superconductor Scientist."
      ]
    },
    {
      "cell_type": "markdown",
      "metadata": {
        "id": "C1wydg8FNWDO"
      },
      "source": [
        "# Hyperparameter Tuning for L1 (Lasso) and L2 (Ridge)"
      ]
    },
    {
      "cell_type": "markdown",
      "metadata": {
        "id": "dyM3fZMNJasn"
      },
      "source": [
        "We created models (as mentioned earlier) for Lasso and Ridge Regression. We also tuned those models using a grid search for the best possible RMSE (Root Mean Squared Error). We originally used an 80/20 train/test split, but later switched to using 3-fold cross-validation to utilize more of our data giving us more information for our algorithm."
      ]
    },
    {
      "cell_type": "code",
      "metadata": {
        "id": "ADC1yYRAelMB",
        "colab": {
          "base_uri": "https://localhost:8080/"
        },
        "outputId": "c2153a49-f73e-4a43-e3e0-83beb0dfc45c"
      },
      "source": [
        "#@title Train/Test Split\n",
        "#Train & Test Splits - 80/20\n",
        "target_column = ['critical_temp'] \n",
        "material_column = ['material']\n",
        "# removed the materials column as well\n",
        "predictors = list(set(list(df.columns))-set(target_column) - set(material_column))\n",
        "X = df[predictors].values\n",
        "y = df[target_column].values\n",
        "\n",
        "X_train, X_test, y_train, y_test = train_test_split(X, y, test_size=0.20, random_state=42)\n",
        "\n",
        "# Scaled Data\n",
        "sc = StandardScaler()\n",
        "X_train = sc.fit_transform(X_train)\n",
        "X_test = sc.transform (X_test)\n",
        "\n",
        "print(X_train.shape); print(X_test.shape)"
      ],
      "execution_count": null,
      "outputs": [
        {
          "output_type": "stream",
          "text": [
            "(17010, 167)\n",
            "(4253, 167)\n"
          ],
          "name": "stdout"
        }
      ]
    },
    {
      "cell_type": "code",
      "metadata": {
        "id": "9UdxgzT_Ve0Y"
      },
      "source": [
        "# X = df_num_pca\n",
        "# y = df['critical_temp']\n",
        "\n",
        "# X_train_pca, X_test_pca, y_train_pca, y_test_pca = train_test_split(X, y, test_size=0.20, random_state=42)\n",
        "# X_train_pca.shape, y_train_pca.shape"
      ],
      "execution_count": null,
      "outputs": []
    },
    {
      "cell_type": "code",
      "metadata": {
        "id": "ZCW5YNZBNiHW"
      },
      "source": [
        "from sklearn.model_selection import KFold\n",
        "# Create cross validation object - raise splits to 3-5, testing with 2\n",
        "# should be fine with KFold since all columns and target are continuous\n",
        "nj = -1\n",
        "cv_reg = KFold(n_splits=3)"
      ],
      "execution_count": null,
      "outputs": []
    },
    {
      "cell_type": "code",
      "metadata": {
        "id": "zL1RzE9HN60o",
        "colab": {
          "base_uri": "https://localhost:8080/"
        },
        "outputId": "29a4ab55-f5cc-4a7b-9cc8-5b9c57747ee7"
      },
      "source": [
        "%%time\n",
        "from sklearn import linear_model\n",
        "\n",
        "# intialize base L1 - Lasso - Regression Model\n",
        "L1_Lasso_reg = linear_model.Lasso(random_state=42, max_iter=1500)\n",
        "\n",
        "# setting the parameters\n",
        "grid_L1 = {}\n",
        "grid_L1['alpha'] = [.001, .01, .1, 1, 5, 10, 100, 1000]\n",
        "\n",
        "\n",
        "L1_tuned = GridSearchCV(estimator=L1_Lasso_reg, param_grid=grid_L1, cv=cv_reg,\n",
        "                        scoring='neg_root_mean_squared_error', n_jobs=nj, verbose=1)\n",
        "\n",
        "L1_tuned.fit(X_train, y_train)\n",
        "\n",
        "\n",
        "# summarize results\n",
        "print(\"Mean RMSE: %.3f\" % L1_tuned.best_score_)\n",
        "print(\"Config RMSE: %s\" % L1_tuned.best_params_)\n",
        "print(f\"Best estimator: {L1_tuned.best_estimator_}\\n\")\n",
        "\n",
        "\n",
        "# setting the best paramaters for L1\n",
        "L1_Lasso_reg = L1_tuned.best_estimator_"
      ],
      "execution_count": null,
      "outputs": [
        {
          "output_type": "stream",
          "text": [
            "Fitting 3 folds for each of 8 candidates, totalling 24 fits\n"
          ],
          "name": "stdout"
        },
        {
          "output_type": "stream",
          "text": [
            "[Parallel(n_jobs=-1)]: Using backend LokyBackend with 2 concurrent workers.\n",
            "[Parallel(n_jobs=-1)]: Done  24 out of  24 | elapsed:   21.6s finished\n"
          ],
          "name": "stderr"
        },
        {
          "output_type": "stream",
          "text": [
            "Mean RMSE: -19.185\n",
            "Config RMSE: {'alpha': 1}\n",
            "Best estimator: Lasso(alpha=1, copy_X=True, fit_intercept=True, max_iter=1500, normalize=False,\n",
            "      positive=False, precompute=False, random_state=42, selection='cyclic',\n",
            "      tol=0.0001, warm_start=False)\n",
            "\n",
            "CPU times: user 700 ms, sys: 147 ms, total: 847 ms\n",
            "Wall time: 22 s\n"
          ],
          "name": "stdout"
        }
      ]
    },
    {
      "cell_type": "code",
      "metadata": {
        "id": "Q_OvIkM5NvRH",
        "colab": {
          "base_uri": "https://localhost:8080/"
        },
        "outputId": "4b6d2a1f-d609-40a4-a185-cd6be189ecc3"
      },
      "source": [
        "%%time\n",
        "\n",
        "# intialize base L2 - Ridge - Regression Model\n",
        "L2_ridge_reg = linear_model.Ridge(random_state=42)\n",
        "\n",
        "# setting the parameters\n",
        "grid_L2 = {}\n",
        "grid_L2['alpha'] = [.001, .01, .1, 1, 5, 10, 100, 1000]\n",
        "grid_L2['solver'] = ['svd', 'cholesky', 'lsqr', 'sparse_cg', 'auto', 'saga']\n",
        "\n",
        "L2_tuned = GridSearchCV(estimator=L2_ridge_reg, param_grid=grid_L2, cv=cv_reg,\n",
        "                        scoring='neg_root_mean_squared_error', n_jobs=nj, verbose=1)\n",
        "\n",
        "L2_tuned.fit(X_train, y_train)\n",
        "\n",
        "\n",
        "# summarize results\n",
        "print(\"Mean RMSE: %.3f\" % L2_tuned.best_score_)\n",
        "print(\"Config RMSE: %s\" % L2_tuned.best_params_)\n",
        "print(f\"Best estimator: {L2_tuned.best_estimator_}\\n\")\n",
        "\n",
        "\n",
        "# setting the best paramaters for L2\n",
        "L2_ridge_reg = L2_tuned.best_estimator_"
      ],
      "execution_count": null,
      "outputs": [
        {
          "output_type": "stream",
          "text": [
            "Fitting 3 folds for each of 48 candidates, totalling 144 fits\n"
          ],
          "name": "stdout"
        },
        {
          "output_type": "stream",
          "text": [
            "[Parallel(n_jobs=-1)]: Using backend LokyBackend with 2 concurrent workers.\n",
            "[Parallel(n_jobs=-1)]: Done  46 tasks      | elapsed:  1.1min\n",
            "/usr/local/lib/python3.7/dist-packages/joblib/externals/loky/process_executor.py:691: UserWarning: A worker stopped while some jobs were given to the executor. This can be caused by a too short worker timeout or by a memory leak.\n",
            "  \"timeout or by a memory leak.\", UserWarning\n",
            "[Parallel(n_jobs=-1)]: Done 144 out of 144 | elapsed:  3.6min finished\n"
          ],
          "name": "stderr"
        },
        {
          "output_type": "stream",
          "text": [
            "Mean RMSE: -18.031\n",
            "Config RMSE: {'alpha': 1000, 'solver': 'lsqr'}\n",
            "Best estimator: Ridge(alpha=1000, copy_X=True, fit_intercept=True, max_iter=None,\n",
            "      normalize=False, random_state=42, solver='lsqr', tol=0.001)\n",
            "\n",
            "CPU times: user 1.71 s, sys: 242 ms, total: 1.96 s\n",
            "Wall time: 3min 37s\n"
          ],
          "name": "stdout"
        }
      ]
    },
    {
      "cell_type": "markdown",
      "metadata": {
        "id": "ISWOIOLN3J9x"
      },
      "source": [
        "## Feature Importance Lasso and Ridge"
      ]
    },
    {
      "cell_type": "markdown",
      "metadata": {
        "id": "0G764tzhKS7G"
      },
      "source": [
        "We felt it would be helpful for our scientist audience to know the 10 most important attributes for predicting the temperature at which a material becomes a superconductor. We determined this list using both Lasso and Ridge."
      ]
    },
    {
      "cell_type": "code",
      "metadata": {
        "id": "kVn4gxb13Hkc",
        "colab": {
          "base_uri": "https://localhost:8080/",
          "height": 679
        },
        "outputId": "afd8dd5b-0140-484b-d5d3-2f3df9f3d1be"
      },
      "source": [
        "# Fit best estimator model\n",
        "L1_Lasso_reg.fit(X_train, y_train.ravel())\n",
        "\n",
        "# Get feature importance and names\n",
        "importance_L1 = np.abs(L1_Lasso_reg.coef_)\n",
        "feature_names = np.array(predictors)\n",
        "\n",
        "# getting it to the top 10 features,  note we are using abs(coef)\n",
        "pre_importance = {'Imp':importance_L1, 'Feature':feature_names}\n",
        "L1_importance = pd.DataFrame(pre_importance)\n",
        "L1_importance_Df = L1_importance\n",
        "L1_importance.sort_values(by = 'Imp', ascending=False, inplace=True)\n",
        "L1_importance_plot = L1_importance.head(10)\n",
        "\n",
        "# Plot top 10 features\n",
        "plt.title(\"LASSO Feature Importance (top 10)\")\n",
        "plt.xticks(rotation = 90, fontsize = 10)\n",
        "plt.bar(height=L1_importance_plot['Imp'], x=L1_importance_plot['Feature'])"
      ],
      "execution_count": null,
      "outputs": [
        {
          "output_type": "execute_result",
          "data": {
            "text/plain": [
              "<BarContainer object of 10 artists>"
            ]
          },
          "metadata": {
            "tags": []
          },
          "execution_count": 69
        },
        {
          "output_type": "display_data",
          "data": {
            "image/png": "[encoded data removed]",
            "text/plain": [
              "<Figure size 640x480 with 1 Axes>"
            ]
          },
          "metadata": {
            "tags": []
          }
        }
      ]
    },
    {
      "cell_type": "markdown",
      "metadata": {
        "id": "iTpwUwz5KhYK"
      },
      "source": [
        "For Lasso Regression, two attributes really stood out in their feature importance: **Ba** (does the material contain the element Barium) and **wtd_std_ThermalConductivity** (a weighted and standardized measure of a material's natural thermal conductivity). Interestingly, two other elements, when present, dramatically impact a materials superconducting temperature: Ca (Calcium), Bi (Bismuth), and Si (Silicon)."
      ]
    },
    {
      "cell_type": "code",
      "metadata": {
        "id": "DbFX9oyg2Gyh",
        "colab": {
          "base_uri": "https://localhost:8080/",
          "height": 688
        },
        "outputId": "74acb456-6b61-4b62-deab-1a4a0d663b84"
      },
      "source": [
        "# Fit best estimator model\n",
        "L2_ridge_reg.fit(X_train, y_train)\n",
        "\n",
        "# Get feature importance and names\n",
        "importance_L2 = np.abs(L2_ridge_reg.coef_)\n",
        "feature_names = np.array(predictors)\n",
        "\n",
        "# getting it to the top 10 features,  note we are using abs(coef)\n",
        "pre_importance = {'Imp':importance_L2.ravel(), 'Feature':feature_names}\n",
        "L2_importance = pd.DataFrame(pre_importance)\n",
        "L2_importance_Df = L2_importance\n",
        "L2_importance.sort_values(by = 'Imp', ascending=False, inplace=True)\n",
        "L2_importance_plot = L2_importance.head(10)\n",
        "\n",
        "# Plot top 10 features\n",
        "plt.title(\"RIDGE Feature Importance (top 10)\")\n",
        "plt.xticks(rotation = 90, fontsize = 10)\n",
        "plt.bar(height=L2_importance_plot['Imp'], x=L2_importance_plot['Feature'])"
      ],
      "execution_count": null,
      "outputs": [
        {
          "output_type": "execute_result",
          "data": {
            "text/plain": [
              "<BarContainer object of 10 artists>"
            ]
          },
          "metadata": {
            "tags": []
          },
          "execution_count": 70
        },
        {
          "output_type": "display_data",
          "data": {
            "image/png": "[encoded data removed]",
            "text/plain": [
              "<Figure size 640x480 with 1 Axes>"
            ]
          },
          "metadata": {
            "tags": []
          }
        }
      ]
    },
    {
      "cell_type": "markdown",
      "metadata": {
        "id": "rLoSKCDRLnW3"
      },
      "source": [
        "For Ridge Regression, the top two attributes were similar (though not as impactful) to the top two in Lasso Regression: **Ba** (does the material contain the element Barium) and **wtd_*mean*_ThermalConductivity** (a weighted - *but unlike Lasso, not standardized* - measure of a material's natural thermal conductivity). Interestingly, the list diverged somewhat after that. For instance in Ridge, the only other element appearing in the top 10 was Bi (Bismuth) which also appeared in the Lasso model.  "
      ]
    },
    {
      "cell_type": "code",
      "metadata": {
        "id": "2U2NnnJzLY8L",
        "colab": {
          "base_uri": "https://localhost:8080/"
        },
        "outputId": "a08b4e61-5d10-4d26-e39d-d418caf539d3"
      },
      "source": [
        "# Lasso CV Scores\n",
        "RMSE_L1 = cross_val_score(L1_Lasso_reg, X_train, y_train.ravel(),cv=cv_reg, scoring = 'neg_root_mean_squared_error')\n",
        "r_sq_L1 = cross_val_score(L1_Lasso_reg, X_train, y_train.ravel(),cv=cv_reg, scoring = 'r2')\n",
        "\n",
        "# Ridge CV Scores\n",
        "RMSE_L2 = cross_val_score(L2_ridge_reg, X_train, y_train.ravel(),cv=cv_reg, scoring = 'neg_root_mean_squared_error')\n",
        "r_sq_L2 = cross_val_score(L2_ridge_reg, X_train, y_train.ravel(),cv=cv_reg, scoring = 'r2')\n",
        "\n",
        "\n",
        "print(f' Mean Lasso RMSE: {round(np.abs(RMSE_L1.mean()),4)}, Mean Lasso R2: {round(r_sq_L1.mean(),4)}')\n",
        "print('-'*80)\n",
        "print(f' Mean Ridge RMSE: {round(np.abs(RMSE_L2.mean()),4)}, Mean Ridge R2: {round(r_sq_L2.mean(),4)}')"
      ],
      "execution_count": null,
      "outputs": [
        {
          "output_type": "stream",
          "text": [
            " Mean Lasso RMSE: 19.185, Mean Lasso R2: 0.6876\n",
            "--------------------------------------------------------------------------------\n",
            " Mean Ridge RMSE: 18.0313, Mean Ridge R2: 0.724\n"
          ],
          "name": "stdout"
        }
      ]
    },
    {
      "cell_type": "code",
      "metadata": {
        "id": "gklmYCL38U2A",
        "colab": {
          "base_uri": "https://localhost:8080/"
        },
        "outputId": "9ac222c5-25a8-4702-a8a4-1a8c7d0fb65e"
      },
      "source": [
        "ypred_L1 = L1_Lasso_reg.predict(X_test)\n",
        "ypred_L2 = L2_ridge_reg.predict(X_test)\n",
        "\n",
        "print('Mean squared error L1:', round(np.sqrt(mean_squared_error(y_test, ypred_L1)),4))\n",
        "print('Coefficient of determination:', round(r2_score(y_test, ypred_L1),4))\n",
        "print('-'*80)\n",
        "print('Mean squared error L2:', round(np.sqrt(mean_squared_error(y_test, ypred_L2)),4))\n",
        "print('Coefficient of determination:', round(r2_score(y_test, ypred_L2),4))"
      ],
      "execution_count": null,
      "outputs": [
        {
          "output_type": "stream",
          "text": [
            "Mean squared error L1: 18.2197\n",
            "Coefficient of determination: 0.7116\n",
            "--------------------------------------------------------------------------------\n",
            "Mean squared error L2: 17.0013\n",
            "Coefficient of determination: 0.7489\n"
          ],
          "name": "stdout"
        }
      ]
    },
    {
      "cell_type": "markdown",
      "metadata": {
        "id": "5fa5l-m-M2CI"
      },
      "source": [
        "Of these two models (Lasso and Ridge), Ridge had not only the lower RMSE, it also had the higher percentage of the variation in critical temperatures explained by the model itself.  \n",
        "\n",
        "However, as we stated at the beginning, for the highest accuracy using the most data, we turned to Linear Regression."
      ]
    },
    {
      "cell_type": "markdown",
      "metadata": {
        "id": "GWxpQpz7RI42"
      },
      "source": [
        "#Linear Regression     \n",
        "We had over 20,000 rows of data and 168 variables to predict the target (critical_temp) and our goal was not to optimize our RMSE. Our goal was to find an accurate model that predicted the temperature at which a material became a superconductor, so we used multiple linear regression as our final method."
      ]
    },
    {
      "cell_type": "code",
      "metadata": {
        "id": "g1RiuHlBRoU5",
        "colab": {
          "base_uri": "https://localhost:8080/"
        },
        "outputId": "6399a51e-7b47-498a-965f-f198038e032d"
      },
      "source": [
        "#@title Linear Regression\n",
        "lr = LinearRegression()\n",
        "lr.fit(X_train, y_train)  # x=input, y=target"
      ],
      "execution_count": null,
      "outputs": [
        {
          "output_type": "execute_result",
          "data": {
            "text/plain": [
              "LinearRegression(copy_X=True, fit_intercept=True, n_jobs=None, normalize=False)"
            ]
          },
          "metadata": {
            "tags": []
          },
          "execution_count": 74
        }
      ]
    },
    {
      "cell_type": "markdown",
      "metadata": {
        "id": "qoCG-qjEOQ2x"
      },
      "source": [
        "Once we created our model, we wanted to determine the relative weight/importance of each of our variables. This list of weights is lengthy (there are 168 variables, after all) but listed below for completeness:"
      ]
    },
    {
      "cell_type": "code",
      "metadata": {
        "id": "sOX_BoRsWabw",
        "colab": {
          "base_uri": "https://localhost:8080/"
        },
        "outputId": "45e69392-fdc6-4b46-923c-be998372339b"
      },
      "source": [
        "#@title Variable Importance\n",
        "print('intercept:', lr.intercept_)\n",
        "print('Coefficients: \\n', lr.coef_)                  # get the slope values"
      ],
      "execution_count": null,
      "outputs": [
        {
          "output_type": "stream",
          "text": [
            "intercept: [-4.4076348 -4.4076348]\n",
            "Coefficients: \n",
            " [[-5.10644617e+00  4.98590874e+00 -5.25576369e-01 -4.16694390e-01\n",
            "   7.93528700e+00  7.49003469e-01 -7.20738565e+01 -6.56055828e-02\n",
            "   9.08039681e-01  7.88889804e+00 -3.84640151e+01 -2.93997744e-01\n",
            "   8.41300973e-02 -1.47786903e-01 -1.35291859e+00 -1.27294740e+00\n",
            "   6.27290372e+00 -1.71908253e+00 -7.26804054e-01  4.54683377e-02\n",
            "  -3.81757028e-01 -2.47086709e+01 -4.88325921e-01  2.22494837e-01\n",
            "  -5.78789353e-01 -8.43620350e-02 -1.50101325e+01 -2.54704687e-01\n",
            "   1.33045126e+00 -2.69201031e+00  6.99363710e+00 -1.66890457e-01\n",
            "  -2.20703233e-02 -7.69524455e-04  2.00240060e-02  2.37395907e-03\n",
            "  -1.52467531e-01  6.13863565e+01 -2.64158044e-01 -5.39934443e-01\n",
            "   1.09715656e+00 -8.02522309e-02 -2.35317088e+00 -1.13167456e-01\n",
            "  -3.63069152e-01  1.94873251e+01  8.25748079e-03  2.55418107e+00\n",
            "  -2.85378716e-01  1.48787347e+00 -2.25244320e+01 -1.11941085e-01\n",
            "  -1.07748584e-01  5.58741629e+00  1.10652360e+01  5.37248817e-03\n",
            "  -2.22453603e+00 -3.03026719e-01 -1.04108718e+00  5.46533063e+01\n",
            "   8.78844405e-01 -5.62775319e-01 -8.48063215e-02  6.72063060e-02\n",
            "   1.49974757e-01  8.23328754e-02 -1.39324132e+01  2.52961238e-02\n",
            "  -1.45623015e-01  2.00142747e+00 -1.97584546e-01  6.24538144e+00\n",
            "   4.29268952e+00 -1.34010786e+00 -1.21174182e-11  7.40348395e-01\n",
            "  -3.95569638e+00 -1.95568208e+01  1.24664532e+01 -1.41911118e-01\n",
            "   1.92091733e-02  1.55441558e-01  4.31222759e+00  3.84764283e-01\n",
            "  -1.48849821e-11 -4.48087100e+00  1.24273073e+00  2.97095681e-12\n",
            "   7.55551479e-01 -3.54472007e-12 -9.92248262e-01  3.34557332e+00\n",
            "   6.47821293e+00 -1.30175091e-03 -4.60506052e-01 -5.26267052e-01\n",
            "   4.98187443e-02 -1.31348491e-01 -4.91708705e-01  1.41422377e-01\n",
            "   3.85443453e-03 -5.72034678e-03 -4.26642783e+00  2.59394783e+01\n",
            "   4.28758770e-01 -4.57281801e+00 -1.94944167e+00 -5.05276348e-01\n",
            "  -1.59492867e+00 -8.65671512e-04  1.64021112e+00 -3.80981025e-01\n",
            "   7.01771974e-13 -3.87202352e-01 -8.02237404e-02 -5.16607235e-02\n",
            "   9.39450305e-04 -1.87433366e+00 -4.65467567e-03 -3.10652246e-03\n",
            "   8.71338471e+00 -4.52282968e-02 -3.92713299e-01  1.58773504e-01\n",
            "   1.05345680e+00  1.03126560e-01 -9.50688499e-01 -7.69162511e-13\n",
            "   8.84613457e+00 -7.27685548e-01  8.76460955e-01  6.89985464e+00\n",
            "  -4.64442389e-01  5.56933056e+00  1.09842220e+00  1.19015908e-13\n",
            "   3.37584499e+00  5.78554235e-01  1.16351693e-02 -8.54538623e-01\n",
            "  -3.77686981e-01  1.91314509e-01  1.28537426e-01  2.34431640e+00\n",
            "   7.98491776e+00  6.92981615e-01 -1.13655179e+01 -8.17124146e-14\n",
            "   5.43312486e-01  9.46449070e-02  3.45631235e-02 -3.23222824e-01\n",
            "  -7.44570342e-02 -8.94770189e-02  9.28229216e+00 -1.94369600e+00\n",
            "   1.03538376e+01  1.36121142e+00 -1.03634615e-03  1.33675875e-01\n",
            "   2.15000943e-01  1.35267475e+00  0.00000000e+00  4.40547570e+00\n",
            "   3.50561591e-01 -4.89112752e-02 -5.04802768e-02]\n",
            " [-5.10644617e+00  4.98590874e+00 -5.25576369e-01 -4.16694390e-01\n",
            "   7.93528700e+00  7.49003469e-01 -7.20738565e+01 -6.56055828e-02\n",
            "   9.08039681e-01  7.88889804e+00 -3.84640151e+01 -2.93997744e-01\n",
            "   8.41300973e-02 -1.47786903e-01 -1.35291859e+00 -1.27294740e+00\n",
            "   6.27290372e+00 -1.71908253e+00 -7.26804054e-01  4.54683377e-02\n",
            "  -3.81757028e-01 -2.47086709e+01 -4.88325921e-01  2.22494837e-01\n",
            "  -5.78789353e-01 -8.43620350e-02 -1.50101325e+01 -2.54704687e-01\n",
            "   1.33045126e+00 -2.69201031e+00  6.99363710e+00 -1.66890457e-01\n",
            "  -2.20703233e-02 -7.69524455e-04  2.00240060e-02  2.37395907e-03\n",
            "  -1.52467531e-01  6.13863565e+01 -2.64158044e-01 -5.39934443e-01\n",
            "   1.09715656e+00 -8.02522309e-02 -2.35317088e+00 -1.13167456e-01\n",
            "  -3.63069152e-01  1.94873251e+01  8.25748079e-03  2.55418107e+00\n",
            "  -2.85378716e-01  1.48787347e+00 -2.25244320e+01 -1.11941085e-01\n",
            "  -1.07748584e-01  5.58741629e+00  1.10652360e+01  5.37248817e-03\n",
            "  -2.22453603e+00 -3.03026719e-01 -1.04108718e+00  5.46533063e+01\n",
            "   8.78844405e-01 -5.62775319e-01 -8.48063215e-02  6.72063060e-02\n",
            "   1.49974757e-01  8.23328754e-02 -1.39324132e+01  2.52961238e-02\n",
            "  -1.45623015e-01  2.00142747e+00 -1.97584546e-01  6.24538144e+00\n",
            "   4.29268952e+00 -1.34010786e+00 -1.21174182e-11  7.40348395e-01\n",
            "  -3.95569638e+00 -1.95568208e+01  1.24664532e+01 -1.41911118e-01\n",
            "   1.92091733e-02  1.55441558e-01  4.31222759e+00  3.84764283e-01\n",
            "  -1.48849821e-11 -4.48087100e+00  1.24273073e+00  2.97095681e-12\n",
            "   7.55551479e-01 -3.54472007e-12 -9.92248262e-01  3.34557332e+00\n",
            "   6.47821293e+00 -1.30175091e-03 -4.60506052e-01 -5.26267052e-01\n",
            "   4.98187443e-02 -1.31348491e-01 -4.91708705e-01  1.41422377e-01\n",
            "   3.85443453e-03 -5.72034678e-03 -4.26642783e+00  2.59394783e+01\n",
            "   4.28758770e-01 -4.57281801e+00 -1.94944167e+00 -5.05276348e-01\n",
            "  -1.59492867e+00 -8.65671512e-04  1.64021112e+00 -3.80981025e-01\n",
            "   7.01771974e-13 -3.87202352e-01 -8.02237404e-02 -5.16607235e-02\n",
            "   9.39450305e-04 -1.87433366e+00 -4.65467567e-03 -3.10652246e-03\n",
            "   8.71338471e+00 -4.52282968e-02 -3.92713299e-01  1.58773504e-01\n",
            "   1.05345680e+00  1.03126560e-01 -9.50688499e-01 -7.69162511e-13\n",
            "   8.84613457e+00 -7.27685548e-01  8.76460955e-01  6.89985464e+00\n",
            "  -4.64442389e-01  5.56933056e+00  1.09842220e+00  1.19015908e-13\n",
            "   3.37584499e+00  5.78554235e-01  1.16351693e-02 -8.54538623e-01\n",
            "  -3.77686981e-01  1.91314509e-01  1.28537426e-01  2.34431640e+00\n",
            "   7.98491776e+00  6.92981615e-01 -1.13655179e+01 -8.17124146e-14\n",
            "   5.43312486e-01  9.46449070e-02  3.45631235e-02 -3.23222824e-01\n",
            "  -7.44570342e-02 -8.94770189e-02  9.28229216e+00 -1.94369600e+00\n",
            "   1.03538376e+01  1.36121142e+00 -1.03634615e-03  1.33675875e-01\n",
            "   2.15000943e-01  1.35267475e+00  0.00000000e+00  4.40547570e+00\n",
            "   3.50561591e-01 -4.89112752e-02 -5.04802768e-02]]\n"
          ],
          "name": "stdout"
        }
      ]
    },
    {
      "cell_type": "code",
      "metadata": {
        "id": "rHsKTwprNf1k",
        "colab": {
          "base_uri": "https://localhost:8080/"
        },
        "outputId": "a52585f7-cde1-47b6-d4b1-0e27bfafa77f"
      },
      "source": [
        "RMSE_lr = cross_val_score(lr, X_train, y_train,cv=cv_reg, scoring = 'neg_root_mean_squared_error')\n",
        "r_sq_lr = cross_val_score(lr, X_train, y_train,cv=cv_reg, scoring = 'r2')\n",
        "\n",
        "print(f' Mean lr RMSE: {round(np.abs(RMSE_lr.mean()),4)}, Mean lr R2: {round(r_sq_lr.mean(),4)}')"
      ],
      "execution_count": null,
      "outputs": [
        {
          "output_type": "stream",
          "text": [
            " Mean lr RMSE: 26.3732, Mean lr R2: 0.3436\n"
          ],
          "name": "stdout"
        }
      ]
    },
    {
      "cell_type": "code",
      "metadata": {
        "id": "Kt6Htc85WXll",
        "colab": {
          "base_uri": "https://localhost:8080/"
        },
        "outputId": "7f0f8ea8-1854-49cc-c4e7-0a10480b9f84"
      },
      "source": [
        "#@title Predictions\n",
        "y_pred = lr.predict(X_test)        # test is your test input\n",
        "\n",
        "# The mean squared error\n",
        "print('Mean squared error:',\n",
        "      np.sqrt(mean_squared_error(y_test, y_pred)))\n",
        "# The coefficient of determination: 1 is perfect prediction\n",
        "print('Coefficient of determination:',\n",
        "      r2_score(y_test, y_pred))"
      ],
      "execution_count": null,
      "outputs": [
        {
          "output_type": "stream",
          "text": [
            "Mean squared error: 16.513154592480202\n",
            "Coefficient of determination: 0.7631058075354881\n"
          ],
          "name": "stdout"
        }
      ]
    },
    {
      "cell_type": "markdown",
      "metadata": {
        "id": "GWQuFaMAOna3"
      },
      "source": [
        "Again, our goal was not to really compare models to determine which was best, but note that the RMSE is lower and the Coefficient of Determination was higher than in the Lasso and Ridge models above."
      ]
    },
    {
      "cell_type": "markdown",
      "metadata": {
        "id": "LoI9GDWMMfrO"
      },
      "source": [
        "#Conclusion\n"
      ]
    },
    {
      "cell_type": "markdown",
      "metadata": {
        "id": "LzosnDKBO5rv"
      },
      "source": [
        "##Variable Importance\n",
        "The coefficients found above in the section \"Variable Importance\" can be used as the weights in a straight-forward formula to calculate our target variable, critical temperature.\n",
        "\n",
        "##Top Attributes\n",
        "For further research into the science of superconductors, it's important to know the top attributes worthy of in-depth analysis. Looking at the list of top attributes from the Lasso and Ridge models reveals that the following six variables are found in both top 10 lists:\n",
        "- Ba\n",
        "- wtd_std_ThermalConductivity\n",
        "- wtd_entropy_atomic_mass\n",
        "- wtd_std_Valence\n",
        "- Bi\n",
        "- wtd_mean_ThermalConductivity  \n",
        "\n",
        "##Recommendation\n",
        "While this is not necessarily our field of expertise, we think that materials should be closely examined for possible superconducting properties when they contain Barium and Bismuth. These materials showed up in the Top 10 most important features list for multiple models and are worthy of future consideration. Of secondary consideration would be materials also containing Calcium and Silicon.\n"
      ]
    }
  ]
}